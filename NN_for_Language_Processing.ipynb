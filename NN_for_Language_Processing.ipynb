{
  "nbformat": 4,
  "nbformat_minor": 0,
  "metadata": {
    "colab": {
      "provenance": [],
      "gpuType": "T4",
      "authorship_tag": "ABX9TyNFbv35F/ILjp+JtAwEhRtU",
      "include_colab_link": true
    },
    "kernelspec": {
      "name": "python3",
      "display_name": "Python 3"
    },
    "language_info": {
      "name": "python"
    },
    "accelerator": "GPU"
  },
  "cells": [
    {
      "cell_type": "markdown",
      "metadata": {
        "id": "view-in-github",
        "colab_type": "text"
      },
      "source": [
        "<a href=\"https://colab.research.google.com/github/Aniri7777/hello-world/blob/main/NN_for_Language_Processing.ipynb\" target=\"_parent\"><img src=\"https://colab.research.google.com/assets/colab-badge.svg\" alt=\"Open In Colab\"/></a>"
      ]
    },
    {
      "cell_type": "code",
      "execution_count": 184,
      "metadata": {
        "id": "Lw0fZ4rj6w1N"
      },
      "outputs": [],
      "source": [
        "import matplotlib.pyplot as plt\n",
        "import pandas as pd\n",
        "import numpy as np\n",
        "\n",
        "import tensorflow as tf\n",
        "from tensorflow.keras.models import Sequential\n",
        "from tensorflow.keras.layers import Input, Dense, Dropout, Flatten, RNN, LSTM, Bidirectional, Embedding\n",
        "\n",
        "from tensorflow.keras.datasets import imdb"
      ]
    },
    {
      "cell_type": "markdown",
      "source": [
        "# **Time-Depending Model Example**"
      ],
      "metadata": {
        "id": "bu2IfxAMKgS9"
      }
    },
    {
      "cell_type": "code",
      "source": [
        "# inception - one by one layer"
      ],
      "metadata": {
        "id": "fylaTEC8IbFa"
      },
      "execution_count": 185,
      "outputs": []
    },
    {
      "cell_type": "code",
      "source": [
        "# conv1d is better with TimeSerries(и числови данни, а не текстови)"
      ],
      "metadata": {
        "id": "yPZ0pJHRL7rU"
      },
      "execution_count": 186,
      "outputs": []
    },
    {
      "cell_type": "code",
      "source": [
        "# x<1> -позиция във текста 1, x(1) - със кръгли скоби означаваме слоевете, x[1] - а със квадратни скоби елементите във слоя"
      ],
      "metadata": {
        "id": "mWQ_fFhNMqPX"
      },
      "execution_count": 187,
      "outputs": []
    },
    {
      "cell_type": "code",
      "source": [
        "### Spars Vector ###\n",
        "# As for images we have backbones - model, who learn how to make classification of the images(we train it long time for a lots of images)\n",
        "# Than we can take this model, take the part of it that makes clasification and use the base for other model\n",
        "# This base makes future extraction and give us a vector, who represent the base\n",
        "# Spars(vector or matrix) - means that's this vector or matrix has a lot of zeros in it\n",
        "# One hot incoding - produces Spars vectors\n",
        "# Multy hot incoding has couple of singles values(1) and a lot more zeros so gives Spars as well"
      ],
      "metadata": {
        "id": "M5hr7w8VV5lM"
      },
      "execution_count": 188,
      "outputs": []
    },
    {
      "cell_type": "code",
      "source": [
        "### Dense Vector ###\n",
        "# Convolutional neural network, ... neural network, transformers - produse Dense Vectors so in the outputs there are very little zeros"
      ],
      "metadata": {
        "id": "UfRvE21ZcO1c"
      },
      "execution_count": 189,
      "outputs": []
    },
    {
      "cell_type": "markdown",
      "source": [
        "# **Recurrent Neural Networks - RNN**"
      ],
      "metadata": {
        "id": "EcyiLOzphxlO"
      }
    },
    {
      "cell_type": "code",
      "source": [
        "VOCABULARY_SiZE = 10000\n",
        "OOV = 0\n",
        "SEQUENCE_LENGHT = 800\n",
        "EMBEDDING_LENGTH = 256"
      ],
      "metadata": {
        "id": "GXCqSBho2FRj"
      },
      "execution_count": 190,
      "outputs": []
    },
    {
      "cell_type": "code",
      "source": [
        "(x_train, y_train), (x_test, y_test) = imdb.load_data(num_words = VOCABULARY_SiZE, oov_char = OOV)"
      ],
      "metadata": {
        "id": "ChmC5jzkhiPq"
      },
      "execution_count": 191,
      "outputs": []
    },
    {
      "cell_type": "code",
      "source": [
        "x_train.shape"
      ],
      "metadata": {
        "colab": {
          "base_uri": "https://localhost:8080/"
        },
        "id": "_3-esFLwxGzc",
        "outputId": "9ea331a9-d79f-4ff2-93a9-5a9bb2eee3e2"
      },
      "execution_count": 192,
      "outputs": [
        {
          "output_type": "execute_result",
          "data": {
            "text/plain": [
              "(25000,)"
            ]
          },
          "metadata": {},
          "execution_count": 192
        }
      ]
    },
    {
      "cell_type": "code",
      "source": [
        "len(x_train[0]), len(x_train[10])"
      ],
      "metadata": {
        "colab": {
          "base_uri": "https://localhost:8080/"
        },
        "id": "WvdSUpxHnDEo",
        "outputId": "47634d6e-a5fc-44a0-bd52-9785e35d20e9"
      },
      "execution_count": 193,
      "outputs": [
        {
          "output_type": "execute_result",
          "data": {
            "text/plain": [
              "(218, 450)"
            ]
          },
          "metadata": {},
          "execution_count": 193
        }
      ]
    },
    {
      "cell_type": "code",
      "source": [
        "#x_train[0]"
      ],
      "metadata": {
        "id": "K_BbdGe-xTac"
      },
      "execution_count": 194,
      "outputs": []
    },
    {
      "cell_type": "code",
      "source": [
        "x_train_padded = tf.keras.utils.pad_sequences(x_train, maxlen = SEQUENCE_LENGHT, padding = \"post\")"
      ],
      "metadata": {
        "id": "x8D4ZNFMyKwY"
      },
      "execution_count": 195,
      "outputs": []
    },
    {
      "cell_type": "code",
      "source": [
        "#imdb.get_word_index(\"the\")\n",
        "imdb.get_word_index()[\"the\"]"
      ],
      "metadata": {
        "colab": {
          "base_uri": "https://localhost:8080/"
        },
        "id": "8Intzp4Xy8sd",
        "outputId": "f47b1b52-05af-4061-d051-8ae37d1530a1"
      },
      "execution_count": 196,
      "outputs": [
        {
          "output_type": "execute_result",
          "data": {
            "text/plain": [
              "1"
            ]
          },
          "metadata": {},
          "execution_count": 196
        }
      ]
    },
    {
      "cell_type": "code",
      "source": [
        "imdb.get_word_index()[\"movie\"]"
      ],
      "metadata": {
        "colab": {
          "base_uri": "https://localhost:8080/"
        },
        "id": "2fmV_LngzQQ7",
        "outputId": "e6c1e13a-ba4e-4850-eb04-a6d0e1417ff1"
      },
      "execution_count": 197,
      "outputs": [
        {
          "output_type": "execute_result",
          "data": {
            "text/plain": [
              "17"
            ]
          },
          "metadata": {},
          "execution_count": 197
        }
      ]
    },
    {
      "cell_type": "code",
      "source": [
        "indices = imdb.get_word_index()"
      ],
      "metadata": {
        "id": "S734FMXE0A1x"
      },
      "execution_count": 198,
      "outputs": []
    },
    {
      "cell_type": "code",
      "source": [
        "words = {v: k for k, v in indices.items()}"
      ],
      "metadata": {
        "id": "VDqQcsu90Q2u"
      },
      "execution_count": 199,
      "outputs": []
    },
    {
      "cell_type": "code",
      "source": [
        "words[14]"
      ],
      "metadata": {
        "colab": {
          "base_uri": "https://localhost:8080/",
          "height": 35
        },
        "id": "Rtmn1Afn0hT9",
        "outputId": "953ad6e1-c10f-4ab5-928a-ee789f4d03f9"
      },
      "execution_count": 200,
      "outputs": [
        {
          "output_type": "execute_result",
          "data": {
            "text/plain": [
              "'as'"
            ],
            "application/vnd.google.colaboratory.intrinsic+json": {
              "type": "string"
            }
          },
          "metadata": {},
          "execution_count": 200
        }
      ]
    },
    {
      "cell_type": "code",
      "source": [
        "words[1]"
      ],
      "metadata": {
        "colab": {
          "base_uri": "https://localhost:8080/",
          "height": 35
        },
        "id": "Rv4Pwcj50te9",
        "outputId": "743bb051-a1e5-4ea8-81ec-c5b471c5705b"
      },
      "execution_count": 201,
      "outputs": [
        {
          "output_type": "execute_result",
          "data": {
            "text/plain": [
              "'the'"
            ],
            "application/vnd.google.colaboratory.intrinsic+json": {
              "type": "string"
            }
          },
          "metadata": {},
          "execution_count": 201
        }
      ]
    },
    {
      "cell_type": "code",
      "source": [
        "# lstm - modelite sa posledovatelni za da se izpalni 17 element trqbva da svarshi 16ti"
      ],
      "metadata": {
        "id": "DyTMjF340wVL"
      },
      "execution_count": 202,
      "outputs": []
    },
    {
      "cell_type": "code",
      "source": [
        "model = Sequential([\n",
        "    Input((SEQUENCE_LENGHT, 32)),\n",
        "    LSTM(5, return_sequences = True),\n",
        "    LSTM(10, return_sequences = True),\n",
        "    LSTM(5),\n",
        "    Flatten(),\n",
        "    Dense(VOCABULARY_SiZE, activation = \"sigmoid\")\n",
        "])"
      ],
      "metadata": {
        "id": "eXCDcz-l1lcd"
      },
      "execution_count": 203,
      "outputs": []
    },
    {
      "cell_type": "code",
      "source": [
        "model.summary()"
      ],
      "metadata": {
        "colab": {
          "base_uri": "https://localhost:8080/"
        },
        "id": "Riz69TmfM3sK",
        "outputId": "4f3076b1-752b-42b5-a411-41ebba405b2b"
      },
      "execution_count": 204,
      "outputs": [
        {
          "output_type": "stream",
          "name": "stdout",
          "text": [
            "Model: \"sequential_31\"\n",
            "_________________________________________________________________\n",
            " Layer (type)                Output Shape              Param #   \n",
            "=================================================================\n",
            " lstm_57 (LSTM)              (None, 800, 5)            760       \n",
            "                                                                 \n",
            " lstm_58 (LSTM)              (None, 800, 10)           640       \n",
            "                                                                 \n",
            " lstm_59 (LSTM)              (None, 5)                 320       \n",
            "                                                                 \n",
            " flatten_11 (Flatten)        (None, 5)                 0         \n",
            "                                                                 \n",
            " dense_27 (Dense)            (None, 10000)             60000     \n",
            "                                                                 \n",
            "=================================================================\n",
            "Total params: 61720 (241.09 KB)\n",
            "Trainable params: 61720 (241.09 KB)\n",
            "Non-trainable params: 0 (0.00 Byte)\n",
            "_________________________________________________________________\n"
          ]
        }
      ]
    },
    {
      "cell_type": "code",
      "source": [
        "result = model.predict(tf.random.uniform((8, SEQUENCE_LENGHT, 32)))"
      ],
      "metadata": {
        "colab": {
          "base_uri": "https://localhost:8080/"
        },
        "id": "oUcc_nhePxvv",
        "outputId": "9950e6b4-3720-46cd-bb8f-67b00c403f07"
      },
      "execution_count": 205,
      "outputs": [
        {
          "output_type": "stream",
          "name": "stdout",
          "text": [
            "1/1 [==============================] - 2s 2s/step\n"
          ]
        }
      ]
    },
    {
      "cell_type": "code",
      "source": [
        "result.shape"
      ],
      "metadata": {
        "colab": {
          "base_uri": "https://localhost:8080/"
        },
        "id": "ka4LIJOoQcT0",
        "outputId": "d01dafaf-ae5b-479f-f41d-9fcd4b147e20"
      },
      "execution_count": 206,
      "outputs": [
        {
          "output_type": "execute_result",
          "data": {
            "text/plain": [
              "(8, 10000)"
            ]
          },
          "metadata": {},
          "execution_count": 206
        }
      ]
    },
    {
      "cell_type": "code",
      "source": [
        "result[:, -20]"
      ],
      "metadata": {
        "colab": {
          "base_uri": "https://localhost:8080/"
        },
        "id": "3sUZFUyER4KA",
        "outputId": "125fb3a4-b343-4908-b375-4142c8e71ea7"
      },
      "execution_count": 207,
      "outputs": [
        {
          "output_type": "execute_result",
          "data": {
            "text/plain": [
              "array([0.5008159 , 0.500986  , 0.5008443 , 0.50105685, 0.5008308 ,\n",
              "       0.5009101 , 0.5009049 , 0.50095785], dtype=float32)"
            ]
          },
          "metadata": {},
          "execution_count": 207
        }
      ]
    },
    {
      "cell_type": "code",
      "source": [
        "bidirectional_model = Sequential([\n",
        "    Input((SEQUENCE_LENGHT, 32)),\n",
        "    Bidirectional(LSTM(5, return_sequences = True))\n",
        "])"
      ],
      "metadata": {
        "id": "PABxT4CQSb6u"
      },
      "execution_count": 208,
      "outputs": []
    },
    {
      "cell_type": "code",
      "source": [
        "bidirectional_model.summary()"
      ],
      "metadata": {
        "colab": {
          "base_uri": "https://localhost:8080/"
        },
        "id": "ZTIyPUWtW75u",
        "outputId": "6c9fb104-5fdc-4e7f-e0cf-5d586fbee5f7"
      },
      "execution_count": 209,
      "outputs": [
        {
          "output_type": "stream",
          "name": "stdout",
          "text": [
            "Model: \"sequential_32\"\n",
            "_________________________________________________________________\n",
            " Layer (type)                Output Shape              Param #   \n",
            "=================================================================\n",
            " bidirectional_3 (Bidirecti  (None, 800, 10)           1520      \n",
            " onal)                                                           \n",
            "                                                                 \n",
            "=================================================================\n",
            "Total params: 1520 (5.94 KB)\n",
            "Trainable params: 1520 (5.94 KB)\n",
            "Non-trainable params: 0 (0.00 Byte)\n",
            "_________________________________________________________________\n"
          ]
        }
      ]
    },
    {
      "cell_type": "code",
      "source": [
        "pca = Sequential([\n",
        "    Input(10000),\n",
        "    Dense(128, activation = \"relu\"),\n",
        "    Dense(64, activation = \"relu\"),\n",
        "    Dense(32, activation = \"relu\"),\n",
        "])"
      ],
      "metadata": {
        "id": "lN_ZFScGW8FA"
      },
      "execution_count": 210,
      "outputs": []
    },
    {
      "cell_type": "code",
      "source": [
        "pca.summary()"
      ],
      "metadata": {
        "colab": {
          "base_uri": "https://localhost:8080/"
        },
        "id": "m2xqiH_fW8P9",
        "outputId": "8b9d1369-ef54-4c00-d1fe-e2e51e924286"
      },
      "execution_count": 211,
      "outputs": [
        {
          "output_type": "stream",
          "name": "stdout",
          "text": [
            "Model: \"sequential_33\"\n",
            "_________________________________________________________________\n",
            " Layer (type)                Output Shape              Param #   \n",
            "=================================================================\n",
            " dense_28 (Dense)            (None, 128)               1280128   \n",
            "                                                                 \n",
            " dense_29 (Dense)            (None, 64)                8256      \n",
            "                                                                 \n",
            " dense_30 (Dense)            (None, 32)                2080      \n",
            "                                                                 \n",
            "=================================================================\n",
            "Total params: 1290464 (4.92 MB)\n",
            "Trainable params: 1290464 (4.92 MB)\n",
            "Non-trainable params: 0 (0.00 Byte)\n",
            "_________________________________________________________________\n"
          ]
        }
      ]
    },
    {
      "cell_type": "code",
      "source": [
        "pca = Sequential([\n",
        "    Input(10000),\n",
        "    Dense(32, use_bias = False),\n",
        "])"
      ],
      "metadata": {
        "id": "fzwfElbCf1Cs"
      },
      "execution_count": 212,
      "outputs": []
    },
    {
      "cell_type": "code",
      "source": [
        "pca.summary()"
      ],
      "metadata": {
        "colab": {
          "base_uri": "https://localhost:8080/"
        },
        "id": "MMWW4mDLhvy3",
        "outputId": "777931df-593c-4975-d189-8f0b80297367"
      },
      "execution_count": 213,
      "outputs": [
        {
          "output_type": "stream",
          "name": "stdout",
          "text": [
            "Model: \"sequential_34\"\n",
            "_________________________________________________________________\n",
            " Layer (type)                Output Shape              Param #   \n",
            "=================================================================\n",
            " dense_31 (Dense)            (None, 32)                320000    \n",
            "                                                                 \n",
            "=================================================================\n",
            "Total params: 320000 (1.22 MB)\n",
            "Trainable params: 320000 (1.22 MB)\n",
            "Non-trainable params: 0 (0.00 Byte)\n",
            "_________________________________________________________________\n"
          ]
        }
      ]
    },
    {
      "cell_type": "markdown",
      "source": [
        "Embedding - take one number and make it oneHot, go true only one layer, who dous not have bias term."
      ],
      "metadata": {
        "id": "0d-NCsgvieQi"
      }
    },
    {
      "cell_type": "code",
      "source": [
        "tf.one_hot([15], depth = 10000)"
      ],
      "metadata": {
        "colab": {
          "base_uri": "https://localhost:8080/"
        },
        "id": "JJePYyp9hy2o",
        "outputId": "18926a3d-1636-4371-d8b4-ec3062f5092b"
      },
      "execution_count": 214,
      "outputs": [
        {
          "output_type": "execute_result",
          "data": {
            "text/plain": [
              "<tf.Tensor: shape=(1, 10000), dtype=float32, numpy=array([[0., 0., 0., ..., 0., 0., 0.]], dtype=float32)>"
            ]
          },
          "metadata": {},
          "execution_count": 214
        }
      ]
    },
    {
      "cell_type": "code",
      "source": [
        "model = Sequential([\n",
        "    Embedding(input_dim = VOCABULARY_SiZE, output_dim = EMBEDDING_LENGTH, input_length = SEQUENCE_LENGHT),\n",
        "    LSTM(5, return_sequences = True),\n",
        "    LSTM(10, return_sequences = True),\n",
        "    LSTM(5, return_sequences = True),\n",
        "    #Flatten(),\n",
        "    Dense(VOCABULARY_SiZE, activation = \"softmax\")\n",
        "])"
      ],
      "metadata": {
        "id": "EISLoHaCkPi5"
      },
      "execution_count": 215,
      "outputs": []
    },
    {
      "cell_type": "code",
      "source": [
        "model.summary()"
      ],
      "metadata": {
        "colab": {
          "base_uri": "https://localhost:8080/"
        },
        "id": "9vGunW2Sklrn",
        "outputId": "a24bba83-e93d-4346-cda3-c9f984661a8e"
      },
      "execution_count": 216,
      "outputs": [
        {
          "output_type": "stream",
          "name": "stdout",
          "text": [
            "Model: \"sequential_35\"\n",
            "_________________________________________________________________\n",
            " Layer (type)                Output Shape              Param #   \n",
            "=================================================================\n",
            " embedding_9 (Embedding)     (None, 800, 256)          2560000   \n",
            "                                                                 \n",
            " lstm_61 (LSTM)              (None, 800, 5)            5240      \n",
            "                                                                 \n",
            " lstm_62 (LSTM)              (None, 800, 10)           640       \n",
            "                                                                 \n",
            " lstm_63 (LSTM)              (None, 800, 5)            320       \n",
            "                                                                 \n",
            " dense_32 (Dense)            (None, 800, 10000)        60000     \n",
            "                                                                 \n",
            "=================================================================\n",
            "Total params: 2626200 (10.02 MB)\n",
            "Trainable params: 2626200 (10.02 MB)\n",
            "Non-trainable params: 0 (0.00 Byte)\n",
            "_________________________________________________________________\n"
          ]
        }
      ]
    },
    {
      "cell_type": "code",
      "source": [
        "x_train_padded[0:5]"
      ],
      "metadata": {
        "colab": {
          "base_uri": "https://localhost:8080/"
        },
        "id": "QyeIbDCtlyj5",
        "outputId": "8e580d7e-fa6f-4868-d8fc-2e8b083568bc"
      },
      "execution_count": 217,
      "outputs": [
        {
          "output_type": "execute_result",
          "data": {
            "text/plain": [
              "array([[   1,   14,   22, ...,    0,    0,    0],\n",
              "       [   1,  194, 1153, ...,    0,    0,    0],\n",
              "       [   1,   14,   47, ...,    0,    0,    0],\n",
              "       [   1,    4,    0, ...,    0,    0,    0],\n",
              "       [   1,  249, 1323, ...,    0,    0,    0]], dtype=int32)"
            ]
          },
          "metadata": {},
          "execution_count": 217
        }
      ]
    },
    {
      "cell_type": "code",
      "source": [
        "predictions = model.predict(x_train_padded[0:5])"
      ],
      "metadata": {
        "colab": {
          "base_uri": "https://localhost:8080/"
        },
        "id": "ldZBI1SOptr4",
        "outputId": "ffd80164-8014-4bc2-c73c-00ce3c813444"
      },
      "execution_count": 218,
      "outputs": [
        {
          "output_type": "stream",
          "name": "stdout",
          "text": [
            "1/1 [==============================] - 1s 1s/step\n"
          ]
        }
      ]
    },
    {
      "cell_type": "code",
      "source": [
        "tf.argmax(predictions, axis = 1)"
      ],
      "metadata": {
        "colab": {
          "base_uri": "https://localhost:8080/"
        },
        "id": "rRjWuEjIqxqU",
        "outputId": "768d8aa6-1893-4a43-d15f-13260ea8586e"
      },
      "execution_count": 219,
      "outputs": [
        {
          "output_type": "execute_result",
          "data": {
            "text/plain": [
              "<tf.Tensor: shape=(5, 10000), dtype=int64, numpy=\n",
              "array([[ 48, 228,  79, ...,  78,  48,  53],\n",
              "       [ 77, 201,  64, ..., 163, 139,  81],\n",
              "       [ 71, 148,  33, ..., 199, 146,  74],\n",
              "       [294, 109,  79, ...,  78, 303, 308],\n",
              "       [149, 103,  39, ...,  38, 104, 158]])>"
            ]
          },
          "metadata": {},
          "execution_count": 219
        }
      ]
    },
    {
      "cell_type": "code",
      "source": [
        "model.compile(loss = \"sparse_categorical_crossentropy\")"
      ],
      "metadata": {
        "id": "GmZDnnJ3rwFW"
      },
      "execution_count": 220,
      "outputs": []
    },
    {
      "cell_type": "code",
      "source": [
        "#model.fit(x_train_padded[0:5], x_train_padded[1:6])"
      ],
      "metadata": {
        "id": "NhpvAyXgrYEp"
      },
      "execution_count": 221,
      "outputs": []
    },
    {
      "cell_type": "code",
      "source": [
        "#x_train_padded"
      ],
      "metadata": {
        "id": "6_Jku6NLtOSj"
      },
      "execution_count": 222,
      "outputs": []
    },
    {
      "cell_type": "code",
      "source": [
        "#x_train_padded.shape"
      ],
      "metadata": {
        "id": "HEXsFE00tRZ5"
      },
      "execution_count": 223,
      "outputs": []
    },
    {
      "cell_type": "code",
      "source": [
        "#x_train_padded[0:5].shape"
      ],
      "metadata": {
        "id": "VjjCqo9ktUKQ"
      },
      "execution_count": 224,
      "outputs": []
    },
    {
      "cell_type": "code",
      "source": [
        "#x_train_padded[1:6].shape"
      ],
      "metadata": {
        "id": "1Alg87qCtm5p"
      },
      "execution_count": 225,
      "outputs": []
    },
    {
      "cell_type": "markdown",
      "source": [
        "Beam Search - things couple steps forward"
      ],
      "metadata": {
        "id": "J6c0HM5M93i3"
      }
    },
    {
      "cell_type": "markdown",
      "source": [
        "Atention explain - multiple atention, spars atention ... queries -input vector for row, keys - thats what we got for columns"
      ],
      "metadata": {
        "id": "Pm6cp5nx-gq7"
      }
    },
    {
      "cell_type": "markdown",
      "source": [
        "Backbone - do future extraction."
      ],
      "metadata": {
        "id": "3pPMCW_GRLSZ"
      }
    },
    {
      "cell_type": "code",
      "source": [
        "# Transformers - model/gpt2"
      ],
      "metadata": {
        "id": "bTF0f2m2MSDj"
      },
      "execution_count": 227,
      "outputs": []
    },
    {
      "cell_type": "markdown",
      "source": [
        "# **huggingface/transformers**"
      ],
      "metadata": {
        "id": "F6rP2ti-Tmes"
      }
    },
    {
      "cell_type": "code",
      "source": [],
      "metadata": {
        "id": "L9Dyh_n_TxZB"
      },
      "execution_count": null,
      "outputs": []
    }
  ]
}