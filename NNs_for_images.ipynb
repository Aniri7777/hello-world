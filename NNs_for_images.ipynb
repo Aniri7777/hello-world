{
  "nbformat": 4,
  "nbformat_minor": 0,
  "metadata": {
    "colab": {
      "provenance": [],
      "gpuType": "T4",
      "authorship_tag": "ABX9TyPOMeu6z3kSMxRAw0B1Acp3",
      "include_colab_link": true
    },
    "kernelspec": {
      "name": "python3",
      "display_name": "Python 3"
    },
    "language_info": {
      "name": "python"
    },
    "accelerator": "GPU"
  },
  "cells": [
    {
      "cell_type": "markdown",
      "metadata": {
        "id": "view-in-github",
        "colab_type": "text"
      },
      "source": [
        "<a href=\"https://colab.research.google.com/github/Aniri7777/hello-world/blob/main/NNs_for_images.ipynb\" target=\"_parent\"><img src=\"https://colab.research.google.com/assets/colab-badge.svg\" alt=\"Open In Colab\"/></a>"
      ]
    },
    {
      "cell_type": "code",
      "source": [
        "from google.colab import drive\n",
        "drive.mount('/content/gdrive')"
      ],
      "metadata": {
        "colab": {
          "base_uri": "https://localhost:8080/"
        },
        "id": "aeQvjt7sNsdn",
        "outputId": "5dc80cee-42b8-42a5-8b44-a66f9a0b4f86"
      },
      "execution_count": 20,
      "outputs": [
        {
          "output_type": "stream",
          "name": "stdout",
          "text": [
            "Drive already mounted at /content/gdrive; to attempt to forcibly remount, call drive.mount(\"/content/gdrive\", force_remount=True).\n"
          ]
        }
      ]
    },
    {
      "cell_type": "code",
      "execution_count": 21,
      "metadata": {
        "id": "B2IAjkB-G5VE"
      },
      "outputs": [],
      "source": [
        "import matplotlib.pyplot as plt\n",
        "import pandas as pd\n",
        "import numpy as np\n",
        "\n",
        "import tensorflow as tf\n",
        "\n",
        "from tensorflow.keras.datasets import mnist\n",
        "\n",
        "from tensorflow.keras.models import Sequential\n",
        "from tensorflow.keras.layers import Dense, Flatten, Input, Conv2D, MaxPool2D, Dropout"
      ]
    },
    {
      "cell_type": "markdown",
      "source": [
        "NNs for **Images**"
      ],
      "metadata": {
        "id": "6nKxfvN_NmyW"
      }
    },
    {
      "cell_type": "code",
      "source": [
        "(2000 * 1000 * 3 + 1) * 256\n",
        "# Това ще бъде размерността или броя тегла във този слой"
      ],
      "metadata": {
        "colab": {
          "base_uri": "https://localhost:8080/"
        },
        "id": "sMiN4zRBQBaO",
        "outputId": "019fba0b-12f4-47f5-e27a-a41fec84377a"
      },
      "execution_count": 22,
      "outputs": [
        {
          "output_type": "execute_result",
          "data": {
            "text/plain": [
              "1536000256"
            ]
          },
          "metadata": {},
          "execution_count": 22
        }
      ]
    },
    {
      "cell_type": "code",
      "source": [
        "mnist.load_data()"
      ],
      "metadata": {
        "colab": {
          "base_uri": "https://localhost:8080/"
        },
        "id": "p8vrJ8sNRO1R",
        "outputId": "3b7ac82c-3d26-4227-fecf-bcc532562d85"
      },
      "execution_count": 23,
      "outputs": [
        {
          "output_type": "execute_result",
          "data": {
            "text/plain": [
              "((array([[[0, 0, 0, ..., 0, 0, 0],\n",
              "          [0, 0, 0, ..., 0, 0, 0],\n",
              "          [0, 0, 0, ..., 0, 0, 0],\n",
              "          ...,\n",
              "          [0, 0, 0, ..., 0, 0, 0],\n",
              "          [0, 0, 0, ..., 0, 0, 0],\n",
              "          [0, 0, 0, ..., 0, 0, 0]],\n",
              "  \n",
              "         [[0, 0, 0, ..., 0, 0, 0],\n",
              "          [0, 0, 0, ..., 0, 0, 0],\n",
              "          [0, 0, 0, ..., 0, 0, 0],\n",
              "          ...,\n",
              "          [0, 0, 0, ..., 0, 0, 0],\n",
              "          [0, 0, 0, ..., 0, 0, 0],\n",
              "          [0, 0, 0, ..., 0, 0, 0]],\n",
              "  \n",
              "         [[0, 0, 0, ..., 0, 0, 0],\n",
              "          [0, 0, 0, ..., 0, 0, 0],\n",
              "          [0, 0, 0, ..., 0, 0, 0],\n",
              "          ...,\n",
              "          [0, 0, 0, ..., 0, 0, 0],\n",
              "          [0, 0, 0, ..., 0, 0, 0],\n",
              "          [0, 0, 0, ..., 0, 0, 0]],\n",
              "  \n",
              "         ...,\n",
              "  \n",
              "         [[0, 0, 0, ..., 0, 0, 0],\n",
              "          [0, 0, 0, ..., 0, 0, 0],\n",
              "          [0, 0, 0, ..., 0, 0, 0],\n",
              "          ...,\n",
              "          [0, 0, 0, ..., 0, 0, 0],\n",
              "          [0, 0, 0, ..., 0, 0, 0],\n",
              "          [0, 0, 0, ..., 0, 0, 0]],\n",
              "  \n",
              "         [[0, 0, 0, ..., 0, 0, 0],\n",
              "          [0, 0, 0, ..., 0, 0, 0],\n",
              "          [0, 0, 0, ..., 0, 0, 0],\n",
              "          ...,\n",
              "          [0, 0, 0, ..., 0, 0, 0],\n",
              "          [0, 0, 0, ..., 0, 0, 0],\n",
              "          [0, 0, 0, ..., 0, 0, 0]],\n",
              "  \n",
              "         [[0, 0, 0, ..., 0, 0, 0],\n",
              "          [0, 0, 0, ..., 0, 0, 0],\n",
              "          [0, 0, 0, ..., 0, 0, 0],\n",
              "          ...,\n",
              "          [0, 0, 0, ..., 0, 0, 0],\n",
              "          [0, 0, 0, ..., 0, 0, 0],\n",
              "          [0, 0, 0, ..., 0, 0, 0]]], dtype=uint8),\n",
              "  array([5, 0, 4, ..., 5, 6, 8], dtype=uint8)),\n",
              " (array([[[0, 0, 0, ..., 0, 0, 0],\n",
              "          [0, 0, 0, ..., 0, 0, 0],\n",
              "          [0, 0, 0, ..., 0, 0, 0],\n",
              "          ...,\n",
              "          [0, 0, 0, ..., 0, 0, 0],\n",
              "          [0, 0, 0, ..., 0, 0, 0],\n",
              "          [0, 0, 0, ..., 0, 0, 0]],\n",
              "  \n",
              "         [[0, 0, 0, ..., 0, 0, 0],\n",
              "          [0, 0, 0, ..., 0, 0, 0],\n",
              "          [0, 0, 0, ..., 0, 0, 0],\n",
              "          ...,\n",
              "          [0, 0, 0, ..., 0, 0, 0],\n",
              "          [0, 0, 0, ..., 0, 0, 0],\n",
              "          [0, 0, 0, ..., 0, 0, 0]],\n",
              "  \n",
              "         [[0, 0, 0, ..., 0, 0, 0],\n",
              "          [0, 0, 0, ..., 0, 0, 0],\n",
              "          [0, 0, 0, ..., 0, 0, 0],\n",
              "          ...,\n",
              "          [0, 0, 0, ..., 0, 0, 0],\n",
              "          [0, 0, 0, ..., 0, 0, 0],\n",
              "          [0, 0, 0, ..., 0, 0, 0]],\n",
              "  \n",
              "         ...,\n",
              "  \n",
              "         [[0, 0, 0, ..., 0, 0, 0],\n",
              "          [0, 0, 0, ..., 0, 0, 0],\n",
              "          [0, 0, 0, ..., 0, 0, 0],\n",
              "          ...,\n",
              "          [0, 0, 0, ..., 0, 0, 0],\n",
              "          [0, 0, 0, ..., 0, 0, 0],\n",
              "          [0, 0, 0, ..., 0, 0, 0]],\n",
              "  \n",
              "         [[0, 0, 0, ..., 0, 0, 0],\n",
              "          [0, 0, 0, ..., 0, 0, 0],\n",
              "          [0, 0, 0, ..., 0, 0, 0],\n",
              "          ...,\n",
              "          [0, 0, 0, ..., 0, 0, 0],\n",
              "          [0, 0, 0, ..., 0, 0, 0],\n",
              "          [0, 0, 0, ..., 0, 0, 0]],\n",
              "  \n",
              "         [[0, 0, 0, ..., 0, 0, 0],\n",
              "          [0, 0, 0, ..., 0, 0, 0],\n",
              "          [0, 0, 0, ..., 0, 0, 0],\n",
              "          ...,\n",
              "          [0, 0, 0, ..., 0, 0, 0],\n",
              "          [0, 0, 0, ..., 0, 0, 0],\n",
              "          [0, 0, 0, ..., 0, 0, 0]]], dtype=uint8),\n",
              "  array([7, 2, 1, ..., 4, 5, 6], dtype=uint8)))"
            ]
          },
          "metadata": {},
          "execution_count": 23
        }
      ]
    },
    {
      "cell_type": "code",
      "source": [
        "(mnist_attributes_train, mnist_labels_train), (mnist_attributes_test, mnist_labels_test) = mnist.load_data()"
      ],
      "metadata": {
        "id": "z5GHURasSw5h"
      },
      "execution_count": 24,
      "outputs": []
    },
    {
      "cell_type": "code",
      "source": [
        "mnist_attributes_train.shape, mnist_labels_train.shape"
      ],
      "metadata": {
        "colab": {
          "base_uri": "https://localhost:8080/"
        },
        "id": "VFVuHXB1Zp0b",
        "outputId": "a759aeaa-74b5-4221-e2bf-e12909d33267"
      },
      "execution_count": 25,
      "outputs": [
        {
          "output_type": "execute_result",
          "data": {
            "text/plain": [
              "((60000, 28, 28), (60000,))"
            ]
          },
          "metadata": {},
          "execution_count": 25
        }
      ]
    },
    {
      "cell_type": "code",
      "source": [
        "mnist_labels_train"
      ],
      "metadata": {
        "colab": {
          "base_uri": "https://localhost:8080/"
        },
        "id": "ewnfR4Y7Zxva",
        "outputId": "bc586275-8916-4d57-dee6-11f4784bf7a6"
      },
      "execution_count": 26,
      "outputs": [
        {
          "output_type": "execute_result",
          "data": {
            "text/plain": [
              "array([5, 0, 4, ..., 5, 6, 8], dtype=uint8)"
            ]
          },
          "metadata": {},
          "execution_count": 26
        }
      ]
    },
    {
      "cell_type": "code",
      "source": [
        "# numpy() give us format tensor\n",
        "mnist_attributes_train = tf.expand_dims(mnist_attributes_train, -1).numpy()\n",
        "mnist_attributes_test = tf.expand_dims(mnist_attributes_test, -1).numpy()"
      ],
      "metadata": {
        "id": "t82CX8ouZ5WJ"
      },
      "execution_count": 27,
      "outputs": []
    },
    {
      "cell_type": "code",
      "source": [
        "mnist_attributes_train.shape[1:]"
      ],
      "metadata": {
        "colab": {
          "base_uri": "https://localhost:8080/"
        },
        "id": "OVPcwj44n-Ri",
        "outputId": "e306635b-563f-447e-a0bd-43070e93823a"
      },
      "execution_count": 28,
      "outputs": [
        {
          "output_type": "execute_result",
          "data": {
            "text/plain": [
              "(28, 28, 1)"
            ]
          },
          "metadata": {},
          "execution_count": 28
        }
      ]
    },
    {
      "cell_type": "code",
      "source": [
        "len(set(mnist_labels_train))"
      ],
      "metadata": {
        "colab": {
          "base_uri": "https://localhost:8080/"
        },
        "id": "dpr0pmeHok4o",
        "outputId": "2b61817f-762d-49ac-dd99-8606c718a889"
      },
      "execution_count": 29,
      "outputs": [
        {
          "output_type": "execute_result",
          "data": {
            "text/plain": [
              "10"
            ]
          },
          "metadata": {},
          "execution_count": 29
        }
      ]
    },
    {
      "cell_type": "code",
      "source": [
        "Input_Shape = mnist_attributes_train.shape[1:]\n",
        "Num_Classes = len(set(mnist_labels_train))"
      ],
      "metadata": {
        "id": "_RwSzcuAn-fu"
      },
      "execution_count": 30,
      "outputs": []
    },
    {
      "cell_type": "code",
      "source": [
        "model = Sequential([\n",
        "    Input(Input_Shape),\n",
        "    Conv2D(32, 3, activation = \"relu\"),\n",
        "    Conv2D(32, 3, activation = \"relu\"),\n",
        "    Conv2D(16, 3, activation = \"relu\"),\n",
        "    Conv2D(16, 3, activation = \"relu\"),\n",
        "])"
      ],
      "metadata": {
        "id": "kmhsR0nSoxxV"
      },
      "execution_count": 31,
      "outputs": []
    },
    {
      "cell_type": "code",
      "source": [
        "model.summary()"
      ],
      "metadata": {
        "colab": {
          "base_uri": "https://localhost:8080/"
        },
        "id": "4ygxMRplpcet",
        "outputId": "2dfc22df-27f6-4272-85dd-19592fecb300"
      },
      "execution_count": 32,
      "outputs": [
        {
          "output_type": "stream",
          "name": "stdout",
          "text": [
            "Model: \"sequential_1\"\n",
            "_________________________________________________________________\n",
            " Layer (type)                Output Shape              Param #   \n",
            "=================================================================\n",
            " conv2d_4 (Conv2D)           (None, 26, 26, 32)        320       \n",
            "                                                                 \n",
            " conv2d_5 (Conv2D)           (None, 24, 24, 32)        9248      \n",
            "                                                                 \n",
            " conv2d_6 (Conv2D)           (None, 22, 22, 16)        4624      \n",
            "                                                                 \n",
            " conv2d_7 (Conv2D)           (None, 20, 20, 16)        2320      \n",
            "                                                                 \n",
            "=================================================================\n",
            "Total params: 16512 (64.50 KB)\n",
            "Trainable params: 16512 (64.50 KB)\n",
            "Non-trainable params: 0 (0.00 Byte)\n",
            "_________________________________________________________________\n"
          ]
        }
      ]
    },
    {
      "cell_type": "code",
      "source": [
        "tf.keras.backend.clear_session()"
      ],
      "metadata": {
        "id": "OKg537J3rxsO"
      },
      "execution_count": 33,
      "outputs": []
    },
    {
      "cell_type": "code",
      "source": [
        "# That's very big we want to make it smaller using: strides = 2, make future selection kind off(защото пропуска пиксели)\n",
        "# Докато MaxPooling прави всичките пиксели и тогава взима максималния от тях( dimentional introduction kind off)\n",
        "model = Sequential([\n",
        "    Input(Input_Shape),\n",
        "    Conv2D(32, 3, strides = 2, padding = \"same\", activation = \"relu\"),\n",
        "# Dropout here is wrong us it replace some of teh numbers with zero(0)\n",
        "    Conv2D(32, 3, padding = \"same\", activation = \"relu\"),\n",
        "    MaxPool2D(),\n",
        "    Conv2D(16, 3, strides = 2, padding = \"same\", activation = \"relu\"),\n",
        "    Conv2D(16, 3, padding = \"same\", activation = \"relu\"),\n",
        "# А Flatten използваме да оeднаквим подадените данни към Dense\n",
        "    Flatten(),\n",
        "# Now we need clasificator(Който обединява резултатите и тъй като става въпрос за обединение на много класове използваме - activation = \"softmax\"):\n",
        "    Dense(16, activation = \"relu\"),\n",
        "    Dropout(0.05),\n",
        "    Dense(Num_Classes, activation = \"softmax\")\n",
        "])"
      ],
      "metadata": {
        "id": "BIY8SP7cp0Sj"
      },
      "execution_count": 34,
      "outputs": []
    },
    {
      "cell_type": "code",
      "source": [
        "model.summary()"
      ],
      "metadata": {
        "colab": {
          "base_uri": "https://localhost:8080/"
        },
        "id": "wqys2_bRqYJ7",
        "outputId": "54ca79db-de4c-493e-a175-f347293fc2be"
      },
      "execution_count": 35,
      "outputs": [
        {
          "output_type": "stream",
          "name": "stdout",
          "text": [
            "Model: \"sequential\"\n",
            "_________________________________________________________________\n",
            " Layer (type)                Output Shape              Param #   \n",
            "=================================================================\n",
            " conv2d (Conv2D)             (None, 14, 14, 32)        320       \n",
            "                                                                 \n",
            " conv2d_1 (Conv2D)           (None, 14, 14, 32)        9248      \n",
            "                                                                 \n",
            " max_pooling2d (MaxPooling2  (None, 7, 7, 32)          0         \n",
            " D)                                                              \n",
            "                                                                 \n",
            " conv2d_2 (Conv2D)           (None, 4, 4, 16)          4624      \n",
            "                                                                 \n",
            " conv2d_3 (Conv2D)           (None, 4, 4, 16)          2320      \n",
            "                                                                 \n",
            " flatten (Flatten)           (None, 256)               0         \n",
            "                                                                 \n",
            " dense (Dense)               (None, 16)                4112      \n",
            "                                                                 \n",
            " dropout (Dropout)           (None, 16)                0         \n",
            "                                                                 \n",
            " dense_1 (Dense)             (None, 10)                170       \n",
            "                                                                 \n",
            "=================================================================\n",
            "Total params: 20794 (81.23 KB)\n",
            "Trainable params: 20794 (81.23 KB)\n",
            "Non-trainable params: 0 (0.00 Byte)\n",
            "_________________________________________________________________\n"
          ]
        }
      ]
    },
    {
      "cell_type": "code",
      "source": [
        "# Very often we need to use optimazer with very, very little learning rate\n",
        "model.compile(optimizer = \"adam\", loss = \"sparse_categorical_crossentropy\", metrics = [\"accuracy\"])"
      ],
      "metadata": {
        "id": "_LP7frZEut72"
      },
      "execution_count": 36,
      "outputs": []
    },
    {
      "cell_type": "code",
      "source": [
        "# If we use validation_split = 0.1, we learn our mosel only on 0.1(10% of the datwe use for training)\n",
        "history = model.fit(mnist_attributes_train, mnist_labels_train, epochs = 20, validation_split = 0.1)"
      ],
      "metadata": {
        "colab": {
          "base_uri": "https://localhost:8080/"
        },
        "id": "mfgMHPxQqcWI",
        "outputId": "bd31d449-73fb-419a-eb6c-550edbc4799e"
      },
      "execution_count": 19,
      "outputs": [
        {
          "output_type": "stream",
          "name": "stdout",
          "text": [
            "Epoch 1/20\n",
            "1688/1688 [==============================] - 9s 5ms/step - loss: 0.0298 - accuracy: 0.9913 - val_loss: 0.0709 - val_accuracy: 0.9858\n",
            "Epoch 2/20\n",
            "1688/1688 [==============================] - 8s 5ms/step - loss: 0.0282 - accuracy: 0.9915 - val_loss: 0.0586 - val_accuracy: 0.9882\n",
            "Epoch 3/20\n",
            "1688/1688 [==============================] - 8s 5ms/step - loss: 0.0249 - accuracy: 0.9920 - val_loss: 0.0660 - val_accuracy: 0.9877\n",
            "Epoch 4/20\n",
            "1688/1688 [==============================] - 8s 5ms/step - loss: 0.0268 - accuracy: 0.9919 - val_loss: 0.0863 - val_accuracy: 0.9832\n",
            "Epoch 5/20\n",
            "1688/1688 [==============================] - 8s 5ms/step - loss: 0.0289 - accuracy: 0.9920 - val_loss: 0.0835 - val_accuracy: 0.9847\n",
            "Epoch 6/20\n",
            "1688/1688 [==============================] - 9s 5ms/step - loss: 0.0237 - accuracy: 0.9928 - val_loss: 0.0704 - val_accuracy: 0.9843\n",
            "Epoch 7/20\n",
            "1688/1688 [==============================] - 8s 5ms/step - loss: 0.0255 - accuracy: 0.9926 - val_loss: 0.0687 - val_accuracy: 0.9870\n",
            "Epoch 8/20\n",
            "1688/1688 [==============================] - 9s 5ms/step - loss: 0.0241 - accuracy: 0.9931 - val_loss: 0.0700 - val_accuracy: 0.9867\n",
            "Epoch 9/20\n",
            "1688/1688 [==============================] - 7s 4ms/step - loss: 0.0214 - accuracy: 0.9936 - val_loss: 0.0846 - val_accuracy: 0.9852\n",
            "Epoch 10/20\n",
            "1688/1688 [==============================] - 9s 5ms/step - loss: 0.0262 - accuracy: 0.9926 - val_loss: 0.0765 - val_accuracy: 0.9863\n",
            "Epoch 11/20\n",
            "1688/1688 [==============================] - 8s 5ms/step - loss: 0.0235 - accuracy: 0.9930 - val_loss: 0.0743 - val_accuracy: 0.9863\n",
            "Epoch 12/20\n",
            "1688/1688 [==============================] - 8s 5ms/step - loss: 0.0202 - accuracy: 0.9941 - val_loss: 0.0773 - val_accuracy: 0.9878\n",
            "Epoch 13/20\n",
            "1688/1688 [==============================] - 8s 5ms/step - loss: 0.0250 - accuracy: 0.9934 - val_loss: 0.0605 - val_accuracy: 0.9872\n",
            "Epoch 14/20\n",
            "1688/1688 [==============================] - 8s 5ms/step - loss: 0.0221 - accuracy: 0.9936 - val_loss: 0.0726 - val_accuracy: 0.9875\n",
            "Epoch 15/20\n",
            "1688/1688 [==============================] - 9s 5ms/step - loss: 0.0216 - accuracy: 0.9937 - val_loss: 0.0949 - val_accuracy: 0.9840\n",
            "Epoch 16/20\n",
            "1688/1688 [==============================] - 7s 4ms/step - loss: 0.0213 - accuracy: 0.9938 - val_loss: 0.0918 - val_accuracy: 0.9862\n",
            "Epoch 17/20\n",
            "1688/1688 [==============================] - 9s 5ms/step - loss: 0.0187 - accuracy: 0.9948 - val_loss: 0.0884 - val_accuracy: 0.9878\n",
            "Epoch 18/20\n",
            "1688/1688 [==============================] - 8s 5ms/step - loss: 0.0290 - accuracy: 0.9923 - val_loss: 0.0874 - val_accuracy: 0.9860\n",
            "Epoch 19/20\n",
            "1688/1688 [==============================] - 9s 5ms/step - loss: 0.0190 - accuracy: 0.9946 - val_loss: 0.0997 - val_accuracy: 0.9838\n",
            "Epoch 20/20\n",
            "1688/1688 [==============================] - 8s 5ms/step - loss: 0.0216 - accuracy: 0.9942 - val_loss: 0.0999 - val_accuracy: 0.9870\n"
          ]
        }
      ]
    },
    {
      "cell_type": "code",
      "source": [],
      "metadata": {
        "id": "PKNVzJcjz5zl"
      },
      "execution_count": 36,
      "outputs": []
    }
  ]
}