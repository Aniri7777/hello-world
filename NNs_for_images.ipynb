{
  "nbformat": 4,
  "nbformat_minor": 0,
  "metadata": {
    "colab": {
      "provenance": [],
      "gpuType": "T4",
      "authorship_tag": "ABX9TyMmJp6IAer2X25eHRfMVp2U",
      "include_colab_link": true
    },
    "kernelspec": {
      "name": "python3",
      "display_name": "Python 3"
    },
    "language_info": {
      "name": "python"
    },
    "accelerator": "GPU"
  },
  "cells": [
    {
      "cell_type": "markdown",
      "metadata": {
        "id": "view-in-github",
        "colab_type": "text"
      },
      "source": [
        "<a href=\"https://colab.research.google.com/github/Aniri7777/hello-world/blob/main/NNs_for_images.ipynb\" target=\"_parent\"><img src=\"https://colab.research.google.com/assets/colab-badge.svg\" alt=\"Open In Colab\"/></a>"
      ]
    },
    {
      "cell_type": "code",
      "source": [
        "from google.colab import drive\n",
        "drive.mount('/content/gdrive')"
      ],
      "metadata": {
        "colab": {
          "base_uri": "https://localhost:8080/"
        },
        "id": "aeQvjt7sNsdn",
        "outputId": "8f98849b-e4ef-4f72-d413-cd550a86ef7e"
      },
      "execution_count": 1,
      "outputs": [
        {
          "output_type": "stream",
          "name": "stdout",
          "text": [
            "Drive already mounted at /content/gdrive; to attempt to forcibly remount, call drive.mount(\"/content/gdrive\", force_remount=True).\n"
          ]
        }
      ]
    },
    {
      "cell_type": "code",
      "execution_count": 2,
      "metadata": {
        "id": "B2IAjkB-G5VE"
      },
      "outputs": [],
      "source": [
        "import matplotlib.pyplot as plt\n",
        "import pandas as pd\n",
        "import numpy as np\n",
        "\n",
        "import tensorflow as tf\n",
        "\n",
        "from tensorflow.keras.datasets import mnist\n",
        "\n",
        "from tensorflow.keras.models import Sequential\n",
        "from tensorflow.keras.layers import Dense, Flatten, Input, Conv2D, MaxPool2D, Dropout, GlobalAvgPool2D"
      ]
    },
    {
      "cell_type": "markdown",
      "source": [
        "NNs for **Images**"
      ],
      "metadata": {
        "id": "6nKxfvN_NmyW"
      }
    },
    {
      "cell_type": "code",
      "source": [
        "(2000 * 1000 * 3 + 1) * 256\n",
        "# Това ще бъде размерността или броя тегла във този слой"
      ],
      "metadata": {
        "colab": {
          "base_uri": "https://localhost:8080/"
        },
        "id": "sMiN4zRBQBaO",
        "outputId": "0b5b2f2f-8253-4b8b-b40b-55850445afb2"
      },
      "execution_count": 3,
      "outputs": [
        {
          "output_type": "execute_result",
          "data": {
            "text/plain": [
              "1536000256"
            ]
          },
          "metadata": {},
          "execution_count": 3
        }
      ]
    },
    {
      "cell_type": "code",
      "source": [
        "mnist.load_data()"
      ],
      "metadata": {
        "colab": {
          "base_uri": "https://localhost:8080/"
        },
        "id": "p8vrJ8sNRO1R",
        "outputId": "714ad676-d2cb-4b36-beaf-01357e921710"
      },
      "execution_count": 4,
      "outputs": [
        {
          "output_type": "execute_result",
          "data": {
            "text/plain": [
              "((array([[[0, 0, 0, ..., 0, 0, 0],\n",
              "          [0, 0, 0, ..., 0, 0, 0],\n",
              "          [0, 0, 0, ..., 0, 0, 0],\n",
              "          ...,\n",
              "          [0, 0, 0, ..., 0, 0, 0],\n",
              "          [0, 0, 0, ..., 0, 0, 0],\n",
              "          [0, 0, 0, ..., 0, 0, 0]],\n",
              "  \n",
              "         [[0, 0, 0, ..., 0, 0, 0],\n",
              "          [0, 0, 0, ..., 0, 0, 0],\n",
              "          [0, 0, 0, ..., 0, 0, 0],\n",
              "          ...,\n",
              "          [0, 0, 0, ..., 0, 0, 0],\n",
              "          [0, 0, 0, ..., 0, 0, 0],\n",
              "          [0, 0, 0, ..., 0, 0, 0]],\n",
              "  \n",
              "         [[0, 0, 0, ..., 0, 0, 0],\n",
              "          [0, 0, 0, ..., 0, 0, 0],\n",
              "          [0, 0, 0, ..., 0, 0, 0],\n",
              "          ...,\n",
              "          [0, 0, 0, ..., 0, 0, 0],\n",
              "          [0, 0, 0, ..., 0, 0, 0],\n",
              "          [0, 0, 0, ..., 0, 0, 0]],\n",
              "  \n",
              "         ...,\n",
              "  \n",
              "         [[0, 0, 0, ..., 0, 0, 0],\n",
              "          [0, 0, 0, ..., 0, 0, 0],\n",
              "          [0, 0, 0, ..., 0, 0, 0],\n",
              "          ...,\n",
              "          [0, 0, 0, ..., 0, 0, 0],\n",
              "          [0, 0, 0, ..., 0, 0, 0],\n",
              "          [0, 0, 0, ..., 0, 0, 0]],\n",
              "  \n",
              "         [[0, 0, 0, ..., 0, 0, 0],\n",
              "          [0, 0, 0, ..., 0, 0, 0],\n",
              "          [0, 0, 0, ..., 0, 0, 0],\n",
              "          ...,\n",
              "          [0, 0, 0, ..., 0, 0, 0],\n",
              "          [0, 0, 0, ..., 0, 0, 0],\n",
              "          [0, 0, 0, ..., 0, 0, 0]],\n",
              "  \n",
              "         [[0, 0, 0, ..., 0, 0, 0],\n",
              "          [0, 0, 0, ..., 0, 0, 0],\n",
              "          [0, 0, 0, ..., 0, 0, 0],\n",
              "          ...,\n",
              "          [0, 0, 0, ..., 0, 0, 0],\n",
              "          [0, 0, 0, ..., 0, 0, 0],\n",
              "          [0, 0, 0, ..., 0, 0, 0]]], dtype=uint8),\n",
              "  array([5, 0, 4, ..., 5, 6, 8], dtype=uint8)),\n",
              " (array([[[0, 0, 0, ..., 0, 0, 0],\n",
              "          [0, 0, 0, ..., 0, 0, 0],\n",
              "          [0, 0, 0, ..., 0, 0, 0],\n",
              "          ...,\n",
              "          [0, 0, 0, ..., 0, 0, 0],\n",
              "          [0, 0, 0, ..., 0, 0, 0],\n",
              "          [0, 0, 0, ..., 0, 0, 0]],\n",
              "  \n",
              "         [[0, 0, 0, ..., 0, 0, 0],\n",
              "          [0, 0, 0, ..., 0, 0, 0],\n",
              "          [0, 0, 0, ..., 0, 0, 0],\n",
              "          ...,\n",
              "          [0, 0, 0, ..., 0, 0, 0],\n",
              "          [0, 0, 0, ..., 0, 0, 0],\n",
              "          [0, 0, 0, ..., 0, 0, 0]],\n",
              "  \n",
              "         [[0, 0, 0, ..., 0, 0, 0],\n",
              "          [0, 0, 0, ..., 0, 0, 0],\n",
              "          [0, 0, 0, ..., 0, 0, 0],\n",
              "          ...,\n",
              "          [0, 0, 0, ..., 0, 0, 0],\n",
              "          [0, 0, 0, ..., 0, 0, 0],\n",
              "          [0, 0, 0, ..., 0, 0, 0]],\n",
              "  \n",
              "         ...,\n",
              "  \n",
              "         [[0, 0, 0, ..., 0, 0, 0],\n",
              "          [0, 0, 0, ..., 0, 0, 0],\n",
              "          [0, 0, 0, ..., 0, 0, 0],\n",
              "          ...,\n",
              "          [0, 0, 0, ..., 0, 0, 0],\n",
              "          [0, 0, 0, ..., 0, 0, 0],\n",
              "          [0, 0, 0, ..., 0, 0, 0]],\n",
              "  \n",
              "         [[0, 0, 0, ..., 0, 0, 0],\n",
              "          [0, 0, 0, ..., 0, 0, 0],\n",
              "          [0, 0, 0, ..., 0, 0, 0],\n",
              "          ...,\n",
              "          [0, 0, 0, ..., 0, 0, 0],\n",
              "          [0, 0, 0, ..., 0, 0, 0],\n",
              "          [0, 0, 0, ..., 0, 0, 0]],\n",
              "  \n",
              "         [[0, 0, 0, ..., 0, 0, 0],\n",
              "          [0, 0, 0, ..., 0, 0, 0],\n",
              "          [0, 0, 0, ..., 0, 0, 0],\n",
              "          ...,\n",
              "          [0, 0, 0, ..., 0, 0, 0],\n",
              "          [0, 0, 0, ..., 0, 0, 0],\n",
              "          [0, 0, 0, ..., 0, 0, 0]]], dtype=uint8),\n",
              "  array([7, 2, 1, ..., 4, 5, 6], dtype=uint8)))"
            ]
          },
          "metadata": {},
          "execution_count": 4
        }
      ]
    },
    {
      "cell_type": "code",
      "source": [
        "(mnist_attributes_train, mnist_labels_train), (mnist_attributes_test, mnist_labels_test) = mnist.load_data()"
      ],
      "metadata": {
        "id": "z5GHURasSw5h"
      },
      "execution_count": 5,
      "outputs": []
    },
    {
      "cell_type": "code",
      "source": [
        "mnist_attributes_train.shape, mnist_labels_train.shape"
      ],
      "metadata": {
        "colab": {
          "base_uri": "https://localhost:8080/"
        },
        "id": "VFVuHXB1Zp0b",
        "outputId": "e6ab1b01-aaa8-4fdb-f810-8bd91dd6fc77"
      },
      "execution_count": 6,
      "outputs": [
        {
          "output_type": "execute_result",
          "data": {
            "text/plain": [
              "((60000, 28, 28), (60000,))"
            ]
          },
          "metadata": {},
          "execution_count": 6
        }
      ]
    },
    {
      "cell_type": "code",
      "source": [
        "mnist_labels_train"
      ],
      "metadata": {
        "colab": {
          "base_uri": "https://localhost:8080/"
        },
        "id": "ewnfR4Y7Zxva",
        "outputId": "e45f6460-1d50-4d9e-a8ac-edfda8d8dc30"
      },
      "execution_count": 7,
      "outputs": [
        {
          "output_type": "execute_result",
          "data": {
            "text/plain": [
              "array([5, 0, 4, ..., 5, 6, 8], dtype=uint8)"
            ]
          },
          "metadata": {},
          "execution_count": 7
        }
      ]
    },
    {
      "cell_type": "code",
      "source": [
        "# numpy() give us format tensor\n",
        "mnist_attributes_train = tf.expand_dims(mnist_attributes_train, -1).numpy()\n",
        "mnist_attributes_test = tf.expand_dims(mnist_attributes_test, -1).numpy()"
      ],
      "metadata": {
        "id": "t82CX8ouZ5WJ"
      },
      "execution_count": 8,
      "outputs": []
    },
    {
      "cell_type": "code",
      "source": [
        "mnist_attributes_train.shape[1:]"
      ],
      "metadata": {
        "colab": {
          "base_uri": "https://localhost:8080/"
        },
        "id": "OVPcwj44n-Ri",
        "outputId": "7d505bdf-ed72-45b3-ba93-d6681094c873"
      },
      "execution_count": 9,
      "outputs": [
        {
          "output_type": "execute_result",
          "data": {
            "text/plain": [
              "(28, 28, 1)"
            ]
          },
          "metadata": {},
          "execution_count": 9
        }
      ]
    },
    {
      "cell_type": "code",
      "source": [
        "len(set(mnist_labels_train))"
      ],
      "metadata": {
        "colab": {
          "base_uri": "https://localhost:8080/"
        },
        "id": "dpr0pmeHok4o",
        "outputId": "24f17500-17e7-427f-a6d5-3e111176e29f"
      },
      "execution_count": 10,
      "outputs": [
        {
          "output_type": "execute_result",
          "data": {
            "text/plain": [
              "10"
            ]
          },
          "metadata": {},
          "execution_count": 10
        }
      ]
    },
    {
      "cell_type": "code",
      "source": [
        "Input_Shape = mnist_attributes_train.shape[1:]\n",
        "Num_Classes = len(set(mnist_labels_train))"
      ],
      "metadata": {
        "id": "_RwSzcuAn-fu"
      },
      "execution_count": 11,
      "outputs": []
    },
    {
      "cell_type": "code",
      "source": [
        "model = Sequential([\n",
        "    Input(Input_Shape),\n",
        "    Conv2D(32, 3, activation = \"relu\"),\n",
        "    Conv2D(32, 3, activation = \"relu\"),\n",
        "    Conv2D(16, 3, activation = \"relu\"),\n",
        "    Conv2D(16, 3, activation = \"relu\"),\n",
        "])"
      ],
      "metadata": {
        "id": "kmhsR0nSoxxV"
      },
      "execution_count": 12,
      "outputs": []
    },
    {
      "cell_type": "code",
      "source": [
        "model.summary()"
      ],
      "metadata": {
        "colab": {
          "base_uri": "https://localhost:8080/"
        },
        "id": "4ygxMRplpcet",
        "outputId": "00a441a6-3f0f-4c54-e539-aa41d2cbce19"
      },
      "execution_count": 13,
      "outputs": [
        {
          "output_type": "stream",
          "name": "stdout",
          "text": [
            "Model: \"sequential\"\n",
            "_________________________________________________________________\n",
            " Layer (type)                Output Shape              Param #   \n",
            "=================================================================\n",
            " conv2d (Conv2D)             (None, 26, 26, 32)        320       \n",
            "                                                                 \n",
            " conv2d_1 (Conv2D)           (None, 24, 24, 32)        9248      \n",
            "                                                                 \n",
            " conv2d_2 (Conv2D)           (None, 22, 22, 16)        4624      \n",
            "                                                                 \n",
            " conv2d_3 (Conv2D)           (None, 20, 20, 16)        2320      \n",
            "                                                                 \n",
            "=================================================================\n",
            "Total params: 16512 (64.50 KB)\n",
            "Trainable params: 16512 (64.50 KB)\n",
            "Non-trainable params: 0 (0.00 Byte)\n",
            "_________________________________________________________________\n"
          ]
        }
      ]
    },
    {
      "cell_type": "code",
      "source": [
        "tf.keras.backend.clear_session()"
      ],
      "metadata": {
        "id": "OKg537J3rxsO"
      },
      "execution_count": 14,
      "outputs": []
    },
    {
      "cell_type": "code",
      "source": [
        "# That's very big we want to make it smaller using: strides = 2, make future selection kind off(защото пропуска пиксели)\n",
        "# Докато MaxPooling прави всичките пиксели и тогава взима максималния от тях( dimentional introduction kind off)\n",
        "model = Sequential([\n",
        "    Input(Input_Shape),\n",
        "    Conv2D(32, 3, strides = 2, padding = \"same\", activation = \"relu\"),\n",
        "# Dropout here is wrong us it replace some of teh numbers with zero(0)\n",
        "    Conv2D(32, 3, padding = \"same\", activation = \"relu\"),\n",
        "    MaxPool2D(),\n",
        "    Conv2D(16, 3, strides = 2, padding = \"same\", activation = \"relu\"),\n",
        "    Conv2D(16, 3, padding = \"same\", activation = \"relu\"),\n",
        "# А Flatten използваме да оeднаквим подадените данни към Dense\n",
        "    Flatten(),\n",
        "# Now we need clasificator(Който обединява резултатите и тъй като става въпрос за обединение на много класове използваме - activation = \"softmax\"):\n",
        "    Dense(16, activation = \"relu\"),\n",
        "    Dropout(0.05),\n",
        "    Dense(Num_Classes, activation = \"softmax\")\n",
        "])"
      ],
      "metadata": {
        "id": "BIY8SP7cp0Sj"
      },
      "execution_count": 15,
      "outputs": []
    },
    {
      "cell_type": "code",
      "source": [
        "model.summary()"
      ],
      "metadata": {
        "colab": {
          "base_uri": "https://localhost:8080/"
        },
        "id": "wqys2_bRqYJ7",
        "outputId": "d4b38974-6188-4f40-fd19-a5e127c61db4"
      },
      "execution_count": 16,
      "outputs": [
        {
          "output_type": "stream",
          "name": "stdout",
          "text": [
            "Model: \"sequential\"\n",
            "_________________________________________________________________\n",
            " Layer (type)                Output Shape              Param #   \n",
            "=================================================================\n",
            " conv2d (Conv2D)             (None, 14, 14, 32)        320       \n",
            "                                                                 \n",
            " conv2d_1 (Conv2D)           (None, 14, 14, 32)        9248      \n",
            "                                                                 \n",
            " max_pooling2d (MaxPooling2  (None, 7, 7, 32)          0         \n",
            " D)                                                              \n",
            "                                                                 \n",
            " conv2d_2 (Conv2D)           (None, 4, 4, 16)          4624      \n",
            "                                                                 \n",
            " conv2d_3 (Conv2D)           (None, 4, 4, 16)          2320      \n",
            "                                                                 \n",
            " flatten (Flatten)           (None, 256)               0         \n",
            "                                                                 \n",
            " dense (Dense)               (None, 16)                4112      \n",
            "                                                                 \n",
            " dropout (Dropout)           (None, 16)                0         \n",
            "                                                                 \n",
            " dense_1 (Dense)             (None, 10)                170       \n",
            "                                                                 \n",
            "=================================================================\n",
            "Total params: 20794 (81.23 KB)\n",
            "Trainable params: 20794 (81.23 KB)\n",
            "Non-trainable params: 0 (0.00 Byte)\n",
            "_________________________________________________________________\n"
          ]
        }
      ]
    },
    {
      "cell_type": "code",
      "source": [
        "# Very often we need to use optimazer with very, very little learning rate\n",
        "model.compile(optimizer = \"adam\", loss = \"sparse_categorical_crossentropy\", metrics = [\"accuracy\"])"
      ],
      "metadata": {
        "id": "_LP7frZEut72"
      },
      "execution_count": 17,
      "outputs": []
    },
    {
      "cell_type": "code",
      "source": [
        "# If we use validation_split = 0.1, we learn our mosel only on 0.1(10% of the datwe use for training)\n",
        "history = model.fit(mnist_attributes_train, mnist_labels_train, epochs = 20, validation_split = 0.1)"
      ],
      "metadata": {
        "colab": {
          "base_uri": "https://localhost:8080/"
        },
        "id": "mfgMHPxQqcWI",
        "outputId": "e9b76f64-0ff5-479c-f580-317f25598bd5"
      },
      "execution_count": 18,
      "outputs": [
        {
          "output_type": "stream",
          "name": "stdout",
          "text": [
            "Epoch 1/20\n",
            "1688/1688 [==============================] - 15s 5ms/step - loss: 0.3889 - accuracy: 0.8798 - val_loss: 0.0888 - val_accuracy: 0.9752\n",
            "Epoch 2/20\n",
            "1688/1688 [==============================] - 9s 5ms/step - loss: 0.1247 - accuracy: 0.9634 - val_loss: 0.0711 - val_accuracy: 0.9802\n",
            "Epoch 3/20\n",
            "1688/1688 [==============================] - 7s 4ms/step - loss: 0.0913 - accuracy: 0.9727 - val_loss: 0.0659 - val_accuracy: 0.9817\n",
            "Epoch 4/20\n",
            "1688/1688 [==============================] - 8s 5ms/step - loss: 0.0731 - accuracy: 0.9785 - val_loss: 0.0709 - val_accuracy: 0.9827\n",
            "Epoch 5/20\n",
            "1688/1688 [==============================] - 7s 4ms/step - loss: 0.0643 - accuracy: 0.9804 - val_loss: 0.0791 - val_accuracy: 0.9797\n",
            "Epoch 6/20\n",
            "1688/1688 [==============================] - 9s 5ms/step - loss: 0.0555 - accuracy: 0.9838 - val_loss: 0.0648 - val_accuracy: 0.9835\n",
            "Epoch 7/20\n",
            "1688/1688 [==============================] - 8s 5ms/step - loss: 0.0506 - accuracy: 0.9844 - val_loss: 0.0633 - val_accuracy: 0.9852\n",
            "Epoch 8/20\n",
            "1688/1688 [==============================] - 9s 5ms/step - loss: 0.0466 - accuracy: 0.9858 - val_loss: 0.0612 - val_accuracy: 0.9862\n",
            "Epoch 9/20\n",
            "1688/1688 [==============================] - 8s 5ms/step - loss: 0.0434 - accuracy: 0.9869 - val_loss: 0.0595 - val_accuracy: 0.9857\n",
            "Epoch 10/20\n",
            "1688/1688 [==============================] - 8s 5ms/step - loss: 0.0392 - accuracy: 0.9879 - val_loss: 0.0785 - val_accuracy: 0.9833\n",
            "Epoch 11/20\n",
            "1688/1688 [==============================] - 9s 5ms/step - loss: 0.0386 - accuracy: 0.9882 - val_loss: 0.0517 - val_accuracy: 0.9878\n",
            "Epoch 12/20\n",
            "1688/1688 [==============================] - 7s 4ms/step - loss: 0.0364 - accuracy: 0.9893 - val_loss: 0.0521 - val_accuracy: 0.9877\n",
            "Epoch 13/20\n",
            "1688/1688 [==============================] - 9s 5ms/step - loss: 0.0328 - accuracy: 0.9902 - val_loss: 0.0571 - val_accuracy: 0.9888\n",
            "Epoch 14/20\n",
            "1688/1688 [==============================] - 8s 5ms/step - loss: 0.0315 - accuracy: 0.9903 - val_loss: 0.0601 - val_accuracy: 0.9877\n",
            "Epoch 15/20\n",
            "1688/1688 [==============================] - 8s 5ms/step - loss: 0.0286 - accuracy: 0.9913 - val_loss: 0.0591 - val_accuracy: 0.9880\n",
            "Epoch 16/20\n",
            "1688/1688 [==============================] - 8s 5ms/step - loss: 0.0325 - accuracy: 0.9908 - val_loss: 0.0547 - val_accuracy: 0.9885\n",
            "Epoch 17/20\n",
            "1688/1688 [==============================] - 8s 5ms/step - loss: 0.0275 - accuracy: 0.9914 - val_loss: 0.0603 - val_accuracy: 0.9862\n",
            "Epoch 18/20\n",
            "1688/1688 [==============================] - 8s 5ms/step - loss: 0.0291 - accuracy: 0.9911 - val_loss: 0.0600 - val_accuracy: 0.9872\n",
            "Epoch 19/20\n",
            "1688/1688 [==============================] - 8s 5ms/step - loss: 0.0251 - accuracy: 0.9922 - val_loss: 0.0699 - val_accuracy: 0.9862\n",
            "Epoch 20/20\n",
            "1688/1688 [==============================] - 9s 5ms/step - loss: 0.0279 - accuracy: 0.9919 - val_loss: 0.0758 - val_accuracy: 0.9872\n"
          ]
        }
      ]
    },
    {
      "cell_type": "code",
      "source": [
        "model.evaluate(mnist_attributes_test, mnist_labels_test)"
      ],
      "metadata": {
        "colab": {
          "base_uri": "https://localhost:8080/"
        },
        "id": "PKNVzJcjz5zl",
        "outputId": "0438519f-6c75-476f-f6d3-c58836c3548e"
      },
      "execution_count": 19,
      "outputs": [
        {
          "output_type": "stream",
          "name": "stdout",
          "text": [
            "313/313 [==============================] - 1s 3ms/step - loss: 0.0668 - accuracy: 0.9865\n"
          ]
        },
        {
          "output_type": "execute_result",
          "data": {
            "text/plain": [
              "[0.06675426661968231, 0.9865000247955322]"
            ]
          },
          "metadata": {},
          "execution_count": 19
        }
      ]
    },
    {
      "cell_type": "code",
      "source": [
        "model.save_weights(\"model_images.h5\")"
      ],
      "metadata": {
        "id": "YaRGFVF48Gnb"
      },
      "execution_count": 21,
      "outputs": []
    },
    {
      "cell_type": "code",
      "source": [],
      "metadata": {
        "id": "mSgxlIpR9-b0"
      },
      "execution_count": null,
      "outputs": []
    }
  ]
}