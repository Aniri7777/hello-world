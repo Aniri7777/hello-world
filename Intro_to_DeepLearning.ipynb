{
  "nbformat": 4,
  "nbformat_minor": 0,
  "metadata": {
    "colab": {
      "provenance": [],
      "gpuType": "T4",
      "authorship_tag": "ABX9TyOVXHo/vqiMDzWQI4u02lgy",
      "include_colab_link": true
    },
    "kernelspec": {
      "name": "python3",
      "display_name": "Python 3"
    },
    "language_info": {
      "name": "python"
    },
    "accelerator": "GPU"
  },
  "cells": [
    {
      "cell_type": "markdown",
      "metadata": {
        "id": "view-in-github",
        "colab_type": "text"
      },
      "source": [
        "<a href=\"https://colab.research.google.com/github/Aniri7777/hello-world/blob/main/Intro_to_DeepLearning.ipynb\" target=\"_parent\"><img src=\"https://colab.research.google.com/assets/colab-badge.svg\" alt=\"Open In Colab\"/></a>"
      ]
    },
    {
      "cell_type": "code",
      "execution_count": 21,
      "metadata": {
        "colab": {
          "base_uri": "https://localhost:8080/"
        },
        "id": "GEDr4rQFaBHI",
        "outputId": "879d3e92-a0f0-419d-8e67-711002440310"
      },
      "outputs": [
        {
          "output_type": "stream",
          "name": "stdout",
          "text": [
            "/bin/bash: line 1: nvidia-smi: command not found\n"
          ]
        }
      ],
      "source": [
        "!nvidia-smi"
      ]
    },
    {
      "cell_type": "code",
      "source": [
        "import matplotlib.pyplot as plt\n",
        "\n",
        "import tensorflow as tf\n",
        "\n",
        "# As we need a model, we will import Sequential\n",
        "# Всяка невронна мрежа има слоеве, които образуват модел\n",
        "from tensorflow.keras.models import Sequential\n",
        "\n",
        "# Dense - означава напълно свързан слой за една напълно стандартна невронна мрежа\n",
        "# Input - за по удобно ще си вземем и един input(or Inputlayer - it's the same)\n",
        "from tensorflow.keras.layers import Dense, Flatten, Input\n",
        "\n",
        "from sklearn.datasets import load_iris\n",
        "\n",
        "from tensorflow.keras.datasets import mnist"
      ],
      "metadata": {
        "id": "1jfO4Ilcj6Je"
      },
      "execution_count": 22,
      "outputs": []
    },
    {
      "cell_type": "code",
      "source": [
        "tf.config.list_physical_devices()"
      ],
      "metadata": {
        "colab": {
          "base_uri": "https://localhost:8080/"
        },
        "id": "pD-Jx6hAkFiI",
        "outputId": "9e537e65-d61c-4876-c41d-6647978dbcf7"
      },
      "execution_count": 23,
      "outputs": [
        {
          "output_type": "execute_result",
          "data": {
            "text/plain": [
              "[PhysicalDevice(name='/physical_device:CPU:0', device_type='CPU')]"
            ]
          },
          "metadata": {},
          "execution_count": 23
        }
      ]
    },
    {
      "cell_type": "code",
      "source": [
        "gpu = tf.config.list_physical_devices(\"GPU\")[0]"
      ],
      "metadata": {
        "id": "EbZ16HInlYj6",
        "colab": {
          "base_uri": "https://localhost:8080/",
          "height": 175
        },
        "outputId": "7482acaa-ea65-4cd8-fd8d-9a61692839b1"
      },
      "execution_count": 24,
      "outputs": [
        {
          "output_type": "error",
          "ename": "IndexError",
          "evalue": "ignored",
          "traceback": [
            "\u001b[0;31m---------------------------------------------------------------------------\u001b[0m",
            "\u001b[0;31mIndexError\u001b[0m                                Traceback (most recent call last)",
            "\u001b[0;32m<ipython-input-24-871b7acc2dbb>\u001b[0m in \u001b[0;36m<cell line: 1>\u001b[0;34m()\u001b[0m\n\u001b[0;32m----> 1\u001b[0;31m \u001b[0mgpu\u001b[0m \u001b[0;34m=\u001b[0m \u001b[0mtf\u001b[0m\u001b[0;34m.\u001b[0m\u001b[0mconfig\u001b[0m\u001b[0;34m.\u001b[0m\u001b[0mlist_physical_devices\u001b[0m\u001b[0;34m(\u001b[0m\u001b[0;34m\"GPU\"\u001b[0m\u001b[0;34m)\u001b[0m\u001b[0;34m[\u001b[0m\u001b[0;36m0\u001b[0m\u001b[0;34m]\u001b[0m\u001b[0;34m\u001b[0m\u001b[0;34m\u001b[0m\u001b[0m\n\u001b[0m",
            "\u001b[0;31mIndexError\u001b[0m: list index out of range"
          ]
        }
      ]
    },
    {
      "cell_type": "code",
      "source": [
        "tf.config.experimental.set_memory_growth(gpu, True)"
      ],
      "metadata": {
        "id": "a54w8A6yknjZ"
      },
      "execution_count": null,
      "outputs": []
    },
    {
      "cell_type": "code",
      "source": [
        "a = tf.constant(15)\n",
        "b = tf.constant(38)"
      ],
      "metadata": {
        "id": "A0yEpxSPmD3L"
      },
      "execution_count": null,
      "outputs": []
    },
    {
      "cell_type": "code",
      "source": [
        "type(a)"
      ],
      "metadata": {
        "id": "h5C-K1ds5sPo"
      },
      "execution_count": null,
      "outputs": []
    },
    {
      "cell_type": "code",
      "source": [
        "tf.add(tf.multiply(2, a), tf.multiply(3, b))"
      ],
      "metadata": {
        "id": "5GdlCdP_550k"
      },
      "execution_count": null,
      "outputs": []
    },
    {
      "cell_type": "code",
      "source": [
        "tf.pow(tf.add(tf.multiply(2, a), tf.multiply(3, b)), 2)"
      ],
      "metadata": {
        "id": "cWuLGds95_o9"
      },
      "execution_count": null,
      "outputs": []
    },
    {
      "cell_type": "code",
      "source": [
        "144 * 144"
      ],
      "metadata": {
        "id": "q42fwaaQ8YNr"
      },
      "execution_count": null,
      "outputs": []
    },
    {
      "cell_type": "code",
      "source": [
        "2 * a, 3 * b"
      ],
      "metadata": {
        "id": "BXGOR7gQ9B5O"
      },
      "execution_count": null,
      "outputs": []
    },
    {
      "cell_type": "code",
      "source": [
        "a = tf.constant([2, 15, 21, -244, 0, 4])\n",
        "b = tf.constant([3, 2, 20, 200, 18, 15])"
      ],
      "metadata": {
        "id": "tBA2kMdc9NFQ"
      },
      "execution_count": null,
      "outputs": []
    },
    {
      "cell_type": "code",
      "source": [
        "tf.pow(tf.add(tf.multiply(2, a), tf.multiply(3, b)), 2)"
      ],
      "metadata": {
        "id": "IYVXlOYu-ssj"
      },
      "execution_count": null,
      "outputs": []
    },
    {
      "cell_type": "code",
      "source": [
        "(2 * a + 3 * b) ** 2"
      ],
      "metadata": {
        "id": "hmQmnTos_K7l"
      },
      "execution_count": null,
      "outputs": []
    },
    {
      "cell_type": "code",
      "source": [
        "tf.random.uniform((5, 8), 0, 20)"
      ],
      "metadata": {
        "id": "iReQ_HFs_gq8"
      },
      "execution_count": null,
      "outputs": []
    },
    {
      "cell_type": "code",
      "source": [
        "a = tf.random.uniform((5, 8), 0, 20)\n",
        "b = tf.random.uniform((5, 8), 0, 20)"
      ],
      "metadata": {
        "id": "ekWzhk5QAUPv"
      },
      "execution_count": null,
      "outputs": []
    },
    {
      "cell_type": "code",
      "source": [
        "a, b"
      ],
      "metadata": {
        "id": "yqGKisPBBhxt"
      },
      "execution_count": null,
      "outputs": []
    },
    {
      "cell_type": "code",
      "source": [
        "tf.pow(tf.add(tf.multiply(2, a), tf.multiply(3, b)), 2)"
      ],
      "metadata": {
        "id": "QdfG9XKQCHuY"
      },
      "execution_count": null,
      "outputs": []
    },
    {
      "cell_type": "code",
      "source": [
        "(2 * a + 3 * b) ** 2"
      ],
      "metadata": {
        "id": "TqPQzDWcCOka"
      },
      "execution_count": null,
      "outputs": []
    },
    {
      "cell_type": "code",
      "source": [
        "# @tf.function\n",
        "def compute(a, b):\n",
        "  return (2 * a + 3 * b) ** 2"
      ],
      "metadata": {
        "id": "8GK15yetCkqJ"
      },
      "execution_count": null,
      "outputs": []
    },
    {
      "cell_type": "code",
      "source": [
        "compute(2, 3)"
      ],
      "metadata": {
        "id": "hW6C-oB9C5uO"
      },
      "execution_count": null,
      "outputs": []
    },
    {
      "cell_type": "code",
      "source": [
        "@tf.function\n",
        "def compute(a, b):\n",
        "  return (2 * a + 3 * b) ** 2"
      ],
      "metadata": {
        "id": "sdxTer3AD-ax"
      },
      "execution_count": null,
      "outputs": []
    },
    {
      "cell_type": "code",
      "source": [
        "compute(2, 3)"
      ],
      "metadata": {
        "id": "znYYVuwED-nR"
      },
      "execution_count": null,
      "outputs": []
    },
    {
      "cell_type": "code",
      "source": [
        "compute(tf.constant([2]), tf.constant([3]))"
      ],
      "metadata": {
        "id": "CokHyzYYEHmC"
      },
      "execution_count": null,
      "outputs": []
    },
    {
      "cell_type": "code",
      "source": [
        "compute(tf.constant([2]), tf.constant([3])).numpy()"
      ],
      "metadata": {
        "id": "bP98XmwbG4zc"
      },
      "execution_count": null,
      "outputs": []
    },
    {
      "cell_type": "code",
      "source": [
        "compute(a, b)"
      ],
      "metadata": {
        "id": "UYP4VGM1HPDe"
      },
      "execution_count": null,
      "outputs": []
    },
    {
      "cell_type": "code",
      "source": [
        "compute(a, b) / 100000"
      ],
      "metadata": {
        "id": "G56zwVruH4Zx"
      },
      "execution_count": null,
      "outputs": []
    },
    {
      "cell_type": "code",
      "source": [
        "compute(a, b).numpy()"
      ],
      "metadata": {
        "id": "mByVe397HVUi"
      },
      "execution_count": null,
      "outputs": []
    },
    {
      "cell_type": "code",
      "source": [
        "x = tf.constant(5.0)"
      ],
      "metadata": {
        "id": "KX2xiimuH20t"
      },
      "execution_count": null,
      "outputs": []
    },
    {
      "cell_type": "code",
      "source": [
        "y = x ** 2"
      ],
      "metadata": {
        "id": "P964Mh-AIOl6"
      },
      "execution_count": null,
      "outputs": []
    },
    {
      "cell_type": "code",
      "source": [
        "y"
      ],
      "metadata": {
        "id": "z3EkHbijId2f"
      },
      "execution_count": null,
      "outputs": []
    },
    {
      "cell_type": "code",
      "source": [
        "with tf.GradientTape() as tape:\n",
        "  tape.watch(x)\n",
        "  y = x ** 2\n",
        "  grad_y = tape.gradient(y, x)"
      ],
      "metadata": {
        "id": "WdBPwp_7IeDT"
      },
      "execution_count": null,
      "outputs": []
    },
    {
      "cell_type": "code",
      "source": [
        "grad_y"
      ],
      "metadata": {
        "id": "hKrwDVaMIePm"
      },
      "execution_count": null,
      "outputs": []
    },
    {
      "cell_type": "code",
      "source": [
        "with tf.GradientTape() as tape:\n",
        "  tape.watch(x)\n",
        "  y = tf.sin(x ** 2)\n",
        "  grad_y = tape.gradient(y, x)"
      ],
      "metadata": {
        "id": "Vo4lVwznaMx3"
      },
      "execution_count": null,
      "outputs": []
    },
    {
      "cell_type": "code",
      "source": [
        "grad_y"
      ],
      "metadata": {
        "id": "Ln8Y_RZWaY1l"
      },
      "execution_count": null,
      "outputs": []
    },
    {
      "cell_type": "code",
      "source": [
        "#with tf.GradientTape() as tape:\n",
        "#  grad_y = tape.gradient(loss, model.trainable_params)"
      ],
      "metadata": {
        "id": "CVyh9qp2ad7I"
      },
      "execution_count": null,
      "outputs": []
    },
    {
      "cell_type": "code",
      "source": [
        "#load_iris().data, load_iris().target"
      ],
      "metadata": {
        "id": "5Ye6dkiWdezp"
      },
      "execution_count": null,
      "outputs": []
    },
    {
      "cell_type": "code",
      "source": [
        "iris_attributer, iris_labels = load_iris().data, load_iris().target"
      ],
      "metadata": {
        "id": "ribvcY35fUgw"
      },
      "execution_count": null,
      "outputs": []
    },
    {
      "cell_type": "code",
      "source": [
        "num_attributes = iris_attributer.shape[1]\n",
        "num_classes = len(set(iris_labels))"
      ],
      "metadata": {
        "id": "GCufOO8kmXzx"
      },
      "execution_count": null,
      "outputs": []
    },
    {
      "cell_type": "code",
      "source": [
        "#logistic_regresion = Sequential([\n",
        "   # Input(),\n",
        "#    Dense(3, activations = \"softmax\")\n",
        "#])\n",
        "# softmax === sigmoid give as the percent of each element of the matrix to the sum of the all elements"
      ],
      "metadata": {
        "id": "CZcDi4Z2kWUb"
      },
      "execution_count": null,
      "outputs": []
    },
    {
      "cell_type": "code",
      "source": [
        "# This is our classificator. We have model.\n",
        "# Входящите данни са толкова колкото са променливите, а изходящите са толкова колкото са класовете\n",
        "logistic_regresion = Sequential([\n",
        "    Input(num_attributes),\n",
        "    Dense(num_classes, activation = \"softmax\")\n",
        "])\n",
        "#softmax === sigmoid give as the percent of each element of the matrix to the sum of the all elements"
      ],
      "metadata": {
        "id": "lQZgl5lYnOCB"
      },
      "execution_count": null,
      "outputs": []
    },
    {
      "cell_type": "code",
      "source": [
        "# Ако правим регресия имаме един изход, но ако правим регресия с 5 изхода, правим 5 различни регресии - отделно\n",
        "# Така правихме класификация на много класове. Няма друг начин,тъй като алгоритъма ни е само бинарен\n",
        "# А \"softmax\" е функция, която ни дава възможност да направим класификация на повече класове."
      ],
      "metadata": {
        "id": "dAVRogs7mRL5"
      },
      "execution_count": null,
      "outputs": []
    },
    {
      "cell_type": "code",
      "source": [
        "logistic_regresion.summary()"
      ],
      "metadata": {
        "id": "vCpRnxgon8bf"
      },
      "execution_count": null,
      "outputs": []
    },
    {
      "cell_type": "code",
      "source": [
        "# И това е една невронна мрежичка, която прави логаристична регресия"
      ],
      "metadata": {
        "id": "W4tRc57bo8Yb"
      },
      "execution_count": null,
      "outputs": []
    },
    {
      "cell_type": "code",
      "source": [
        "# Но първо трябва да жидим дали модела ни работи т.е ако не е научил данните наизуст т.е accuracy = 1.0"
      ],
      "metadata": {
        "id": "CEmS_LOVuX00"
      },
      "execution_count": null,
      "outputs": []
    },
    {
      "cell_type": "code",
      "source": [
        "#logistic_regresion.fit(iris_attributer, iris_labels)"
      ],
      "metadata": {
        "id": "uK7rKrjnvdco"
      },
      "execution_count": null,
      "outputs": []
    },
    {
      "cell_type": "code",
      "source": [
        "# It's not compiled so we have to do that\n",
        "logistic_regresion.compile(optimizer = \"sgd\", loss = \"sparse_categorical_crossentropy\")"
      ],
      "metadata": {
        "id": "oWMxlXdYvlKX"
      },
      "execution_count": null,
      "outputs": []
    },
    {
      "cell_type": "code",
      "source": [
        "# Сега работи и модела ни се тренира една епоха - едно преминаване през датасета\n",
        "# Но \"sgd\" разделя епохата на в случая 5 стъпки, една стъпка преставлява едно подаване на данните, и цели 5 тсъпки на GredientDecent\n",
        "logistic_regresion.fit(iris_attributer, iris_labels)"
      ],
      "metadata": {
        "id": "B2Fi5P1qx7Ji"
      },
      "execution_count": null,
      "outputs": []
    },
    {
      "cell_type": "code",
      "source": [
        "# But we are greedy and we want 10 epochs\n",
        "logistic_regresion.fit(iris_attributer, iris_labels, epochs = 10)"
      ],
      "metadata": {
        "id": "DUv2zgL10PS-"
      },
      "execution_count": null,
      "outputs": []
    },
    {
      "cell_type": "code",
      "source": [
        "# Със всяка епоха лосс функцията пада и когато се задържи по дълго на една обикновенно сравнитело ниска стойност, означава, че обучението ни е завършело\n",
        "logistic_regresion.fit(iris_attributer, iris_labels, epochs = 100)"
      ],
      "metadata": {
        "id": "Fy6PTL1G0Phm"
      },
      "execution_count": null,
      "outputs": []
    },
    {
      "cell_type": "code",
      "source": [
        "logistic_regresion.fit(iris_attributer, iris_labels, epochs = 2000)"
      ],
      "metadata": {
        "id": "rWXUU8Sq2O0N"
      },
      "execution_count": null,
      "outputs": []
    },
    {
      "cell_type": "code",
      "source": [
        "# Лос функцията пада докато модела се обучава, но в един момент започва да расте, защото модела вече толкова добре познава данните, че започва да овърфитва даже и шума"
      ],
      "metadata": {
        "id": "WkZ7AIj--cGR"
      },
      "execution_count": null,
      "outputs": []
    },
    {
      "cell_type": "code",
      "source": [
        "# Изчистване на предишни сесии и обучения\n",
        "tf.keras.backend.clear_session()"
      ],
      "metadata": {
        "id": "ARSV1pdj_czH"
      },
      "execution_count": null,
      "outputs": []
    },
    {
      "cell_type": "code",
      "source": [
        "# We will try to make it wrong using sigmoid function\n",
        "logistic_regresion = Sequential([\n",
        "    Input(num_attributes),\n",
        "    Dense(num_classes, activation = \"sigmoid\")\n",
        "])"
      ],
      "metadata": {
        "id": "nlErMPXBAmeP"
      },
      "execution_count": null,
      "outputs": []
    },
    {
      "cell_type": "code",
      "source": [
        "logistic_regresion.compile(optimizer = \"sgd\", loss = \"sparse_categorical_crossentropy\")"
      ],
      "metadata": {
        "id": "-NFg1foeBEqF"
      },
      "execution_count": null,
      "outputs": []
    },
    {
      "cell_type": "code",
      "source": [
        "logistic_regresion.fit(iris_attributer, iris_labels, epochs = 100)"
      ],
      "metadata": {
        "id": "wFO3enSVCOZk"
      },
      "execution_count": null,
      "outputs": []
    },
    {
      "cell_type": "code",
      "source": [
        "# The sigmoid model is working, but we have some mistake there.\n",
        "logistic_regresion.predict(iris_attributer)"
      ],
      "metadata": {
        "id": "qibo9UhPCt_P",
        "colab": {
          "base_uri": "https://localhost:8080/",
          "height": 193
        },
        "outputId": "9837eb15-a8b6-40ba-ba22-7fd38eb37e91"
      },
      "execution_count": null,
      "outputs": [
        {
          "output_type": "error",
          "ename": "NameError",
          "evalue": "ignored",
          "traceback": [
            "\u001b[0;31m---------------------------------------------------------------------------\u001b[0m",
            "\u001b[0;31mNameError\u001b[0m                                 Traceback (most recent call last)",
            "\u001b[0;32m<ipython-input-14-b069d2a0e232>\u001b[0m in \u001b[0;36m<cell line: 2>\u001b[0;34m()\u001b[0m\n\u001b[1;32m      1\u001b[0m \u001b[0;31m# The sigmoid model is working, but we have some mistake there.\u001b[0m\u001b[0;34m\u001b[0m\u001b[0;34m\u001b[0m\u001b[0m\n\u001b[0;32m----> 2\u001b[0;31m \u001b[0mlogistic_regresion\u001b[0m\u001b[0;34m.\u001b[0m\u001b[0mpredict\u001b[0m\u001b[0;34m(\u001b[0m\u001b[0miris_attributer\u001b[0m\u001b[0;34m)\u001b[0m\u001b[0;34m\u001b[0m\u001b[0;34m\u001b[0m\u001b[0m\n\u001b[0m",
            "\u001b[0;31mNameError\u001b[0m: name 'logistic_regresion' is not defined"
          ]
        }
      ]
    },
    {
      "cell_type": "code",
      "source": [
        "# Here is the sum of all the probability which we got and there are over 1 which is not good result for probability\n",
        "tf.reduce_sum(logistic_regresion.predict(iris_attributer), axis = 1)"
      ],
      "metadata": {
        "id": "imFfNsa0D0yV"
      },
      "execution_count": null,
      "outputs": []
    },
    {
      "cell_type": "code",
      "source": [
        "# As we can see sigmoid is make three separate binary classifications\n",
        "logistic_regresion.predict(iris_attributer)"
      ],
      "metadata": {
        "id": "YB_gSDxpFPCt"
      },
      "execution_count": null,
      "outputs": []
    },
    {
      "cell_type": "code",
      "source": [
        "logistic_regresion = Sequential([\n",
        "    Input(num_attributes),\n",
        "    Dense(num_classes, activation = \"softmax\")\n",
        "])"
      ],
      "metadata": {
        "id": "RFfvA379GLzi"
      },
      "execution_count": null,
      "outputs": []
    },
    {
      "cell_type": "code",
      "source": [
        "logistic_regresion.compile(optimizer = \"sgd\", loss = \"sparse_categorical_crossentropy\")"
      ],
      "metadata": {
        "id": "cGFLF54mGLzi"
      },
      "execution_count": null,
      "outputs": []
    },
    {
      "cell_type": "code",
      "source": [
        "logistic_regresion.fit(iris_attributer, iris_labels, epochs = 100)"
      ],
      "metadata": {
        "id": "J25583lmGLzj"
      },
      "execution_count": null,
      "outputs": []
    },
    {
      "cell_type": "code",
      "source": [
        "# And softmax is bringing our probability as normal close to 1, but not go over it\n",
        "tf.reduce_sum(logistic_regresion.predict(iris_attributer), axis = 1)"
      ],
      "metadata": {
        "id": "plxWzlccIQ8u"
      },
      "execution_count": null,
      "outputs": []
    },
    {
      "cell_type": "code",
      "source": [
        "### Lets see what will hapend if we forget the sparce and we leave only \"categorical_crossentropy\"\n",
        "#logistic_regresion.compile(optimizer = \"sgd\", loss = \"categorical_crossentropy\")\n",
        "#logistic_regresion.fit(iris_attributer, iris_labels, epochs = 20)\n",
        "# We got:  ValueError: Shapes (None, 1) and (None, 3) are incompatible\n",
        "# Тва означава, че подаваме у(Shapes (None, 1)) няколко записа на една колона, а алгоритъма ни очаква няколко записа на 3 колони(None, 3) като броя на класовете три"
      ],
      "metadata": {
        "id": "EmIUkV5fKmmW"
      },
      "execution_count": null,
      "outputs": []
    },
    {
      "cell_type": "code",
      "source": [
        "tf.keras.backend.clear_session()"
      ],
      "metadata": {
        "id": "0N3-5N2XccOT"
      },
      "execution_count": null,
      "outputs": []
    },
    {
      "cell_type": "code",
      "source": [
        "logistic_regresion = Sequential([\n",
        "    Input(num_attributes),\n",
        "    Dense(num_classes, activation = \"softmax\")\n",
        "])"
      ],
      "metadata": {
        "id": "w3s17QqpckwX"
      },
      "execution_count": null,
      "outputs": []
    },
    {
      "cell_type": "code",
      "source": [
        "logistic_regresion.summary()"
      ],
      "metadata": {
        "id": "EWS2SeCEdKEN"
      },
      "execution_count": null,
      "outputs": []
    },
    {
      "cell_type": "code",
      "source": [
        "# If we don't have loss = sparse_categorical_crossentropy, if we dont have \"sparse\"(look row 61)\n",
        "# Than algorithm expects: ris_labels_ohe = tf.one_hot(iris_labels, 3), one_hot encoder\n",
        "logistic_regresion.compile(optimizer = \"sgd\", loss = \"categorical_crossentropy\")"
      ],
      "metadata": {
        "id": "_Rk8v-H0Np4M"
      },
      "execution_count": null,
      "outputs": []
    },
    {
      "cell_type": "code",
      "source": [
        "iris_labels_ohe = tf.one_hot(iris_labels, 3)"
      ],
      "metadata": {
        "id": "GRvZ-KcKrOUT"
      },
      "execution_count": null,
      "outputs": []
    },
    {
      "cell_type": "code",
      "source": [
        "logistic_regresion.fit(iris_attributer, iris_labels_ohe, epochs = 100)"
      ],
      "metadata": {
        "id": "WlzGyXqUrJoT"
      },
      "execution_count": null,
      "outputs": []
    },
    {
      "cell_type": "code",
      "source": [
        "tf.reduce_sum(logistic_regresion.predict(iris_attributer), axis=1)"
      ],
      "metadata": {
        "id": "W05KIf1AdbL9"
      },
      "execution_count": null,
      "outputs": []
    },
    {
      "cell_type": "code",
      "source": [
        "logistic_regresion.predict(iris_attributer)"
      ],
      "metadata": {
        "id": "aK1Oz7EHqdw-"
      },
      "execution_count": null,
      "outputs": []
    },
    {
      "cell_type": "code",
      "source": [
        "linear_regression = Sequential([\n",
        "    Input(num_attributes),\n",
        "    Dense(1)\n",
        "])\n",
        "# Dense(1) - За една променлива, Dense(5) - За 5 отделни променливи"
      ],
      "metadata": {
        "id": "IAPE8rH9qwos",
        "colab": {
          "base_uri": "https://localhost:8080/",
          "height": 245
        },
        "outputId": "ff834e94-f0d9-4d5b-ab64-40d8db913ee7"
      },
      "execution_count": null,
      "outputs": [
        {
          "output_type": "error",
          "ename": "NameError",
          "evalue": "ignored",
          "traceback": [
            "\u001b[0;31m---------------------------------------------------------------------------\u001b[0m",
            "\u001b[0;31mNameError\u001b[0m                                 Traceback (most recent call last)",
            "\u001b[0;32m<ipython-input-15-2d6ead63a993>\u001b[0m in \u001b[0;36m<cell line: 1>\u001b[0;34m()\u001b[0m\n\u001b[1;32m      1\u001b[0m linear_regression = Sequential([\n\u001b[0;32m----> 2\u001b[0;31m     \u001b[0mInput\u001b[0m\u001b[0;34m(\u001b[0m\u001b[0mnum_attributes\u001b[0m\u001b[0;34m)\u001b[0m\u001b[0;34m,\u001b[0m\u001b[0;34m\u001b[0m\u001b[0;34m\u001b[0m\u001b[0m\n\u001b[0m\u001b[1;32m      3\u001b[0m     \u001b[0mDense\u001b[0m\u001b[0;34m(\u001b[0m\u001b[0;36m1\u001b[0m\u001b[0;34m)\u001b[0m\u001b[0;34m\u001b[0m\u001b[0;34m\u001b[0m\u001b[0m\n\u001b[1;32m      4\u001b[0m ])\n\u001b[1;32m      5\u001b[0m \u001b[0;31m# Dense(1) - За една променлива, Dense(5) - За 5 отделни променливи\u001b[0m\u001b[0;34m\u001b[0m\u001b[0;34m\u001b[0m\u001b[0m\n",
            "\u001b[0;31mNameError\u001b[0m: name 'num_attributes' is not defined"
          ]
        }
      ]
    },
    {
      "cell_type": "code",
      "source": [
        "linear_regression.compile(optimizer = \"sgd\", loss = \"mse\")"
      ],
      "metadata": {
        "id": "fqNaUnycr06c"
      },
      "execution_count": null,
      "outputs": []
    },
    {
      "cell_type": "code",
      "source": [
        "# We will try to use the same atributes\n",
        "#iris_attributer - 4 columns\n",
        "#iris_attributer without the last columns- iris_attributer[:, :-1]\n",
        "iris_attributer_for_regression = iris_attributer[:,:-1]\n",
        "iris_target_for_regression = iris_attributer[:, -1]\n",
        "\n",
        "iris_attributer_for_regression, iris_target_for_regression"
      ],
      "metadata": {
        "id": "Zh4f2h5xwA9r"
      },
      "execution_count": null,
      "outputs": []
    },
    {
      "cell_type": "code",
      "source": [
        "linear_regression = Sequential([\n",
        "    Input(iris_attributer_for_regression.shape[1]),\n",
        "    Dense(1)\n",
        "])"
      ],
      "metadata": {
        "id": "zzMz1Nhi44eO"
      },
      "execution_count": null,
      "outputs": []
    },
    {
      "cell_type": "code",
      "source": [
        "linear_regression.compile(optimizer = \"sgd\", loss = \"mse\")"
      ],
      "metadata": {
        "id": "BSdfl6fB5HXB"
      },
      "execution_count": null,
      "outputs": []
    },
    {
      "cell_type": "code",
      "source": [
        "linear_regression.fit(iris_attributer_for_regression, iris_target_for_regression, epochs = 100)"
      ],
      "metadata": {
        "id": "5ZhEj7605ONd"
      },
      "execution_count": null,
      "outputs": []
    },
    {
      "cell_type": "code",
      "source": [
        "linear_regression.predict(iris_attributer_for_regression)"
      ],
      "metadata": {
        "id": "UaZTsUOB6vxZ"
      },
      "execution_count": null,
      "outputs": []
    },
    {
      "cell_type": "code",
      "source": [
        "# Sequential - we use it to make a models -които не се разклоняват, а са последователни\n",
        "# with model - може да има разклонения"
      ],
      "metadata": {
        "id": "1irY3Ef97vfl"
      },
      "execution_count": null,
      "outputs": []
    },
    {
      "cell_type": "code",
      "source": [
        "# load data\n",
        "mnist.load_data()\n",
        "# return tuple from tuples"
      ],
      "metadata": {
        "id": "bfT870uC8p6N"
      },
      "execution_count": null,
      "outputs": []
    },
    {
      "cell_type": "code",
      "source": [
        "# mnist.load_data()[0]\n",
        "# Element [0] is the first tuple. We have training data atributes and labels, and test data atributes and labels"
      ],
      "metadata": {
        "id": "rUV4SP9C-gD_"
      },
      "execution_count": null,
      "outputs": []
    },
    {
      "cell_type": "code",
      "source": [
        "((mnist_attributes_train, mnist_labels_train), (mnist_attributes_test, mnist_labels_test)) = mnist.load_data()"
      ],
      "metadata": {
        "id": "bRG5fBJD_hNf"
      },
      "execution_count": null,
      "outputs": []
    },
    {
      "cell_type": "code",
      "source": [
        "mnist_attributes_train.shape, mnist_labels_train.shape, mnist_attributes_test.shape, mnist_labels_test.shape"
      ],
      "metadata": {
        "id": "pWxzA9d7_62T"
      },
      "execution_count": null,
      "outputs": []
    },
    {
      "cell_type": "code",
      "source": [
        "plt.imshow(mnist_attributes_train[100])\n",
        "plt.show()"
      ],
      "metadata": {
        "id": "Qh314f75GZAP"
      },
      "execution_count": null,
      "outputs": []
    },
    {
      "cell_type": "code",
      "source": [
        "index = 1000\n",
        "plt.imshow(mnist_attributes_train[index], cmap=\"Blues_r\")\n",
        "plt.title(mnist_labels_train[index])\n",
        "plt.show()"
      ],
      "metadata": {
        "id": "XQsKjDwWNbbW"
      },
      "execution_count": null,
      "outputs": []
    },
    {
      "cell_type": "code",
      "source": [
        "# mnist_attributes_train.shape[1:], return (28, 28)\n",
        "input_shape = mnist_attributes_train.shape[1:]\n",
        "num_classes = len(set(mnist_labels_train))\n",
        "input_shape, num_classes"
      ],
      "metadata": {
        "id": "Yg90Ez6bc4DR"
      },
      "execution_count": null,
      "outputs": []
    },
    {
      "cell_type": "code",
      "source": [
        "# Before .clear_session\n",
        "# Model: \"sequential_3\"\n",
        "#_________________________________________________________________\n",
        " #Layer (type)                Output Shape              Param #\n",
        "#=================================================================\n",
        " #dense_3 (Dense)             (None, 28, 10)            290\n",
        "#Total params: 290 (1.13 KB)\n",
        "#inable params: 290 (1.13 KB)\n",
        "#Non-trainable params: 0 (0.00 Byte)"
      ],
      "metadata": {
        "id": "jeGDe3OdiVFB"
      },
      "execution_count": null,
      "outputs": []
    },
    {
      "cell_type": "code",
      "source": [
        "tf.keras.backend.clear_session()"
      ],
      "metadata": {
        "id": "ETbpR_2fjZ_i"
      },
      "execution_count": null,
      "outputs": []
    },
    {
      "cell_type": "code",
      "source": [
        "neural_network = Sequential([\n",
        "    Input(input_shape),\n",
        "    Dense(num_classes, activation = \"softmax\")\n",
        "])"
      ],
      "metadata": {
        "id": "eANH3A_Mc4Wf"
      },
      "execution_count": null,
      "outputs": []
    },
    {
      "cell_type": "code",
      "source": [
        "neural_network.compile(optimizer=\"sgd\", loss=\"sparse_categorical_crossentropy\")"
      ],
      "metadata": {
        "id": "03PqAL8Tc4kY"
      },
      "execution_count": null,
      "outputs": []
    },
    {
      "cell_type": "code",
      "source": [
        "neural_network.summary()"
      ],
      "metadata": {
        "id": "O47zKJonjxAp"
      },
      "execution_count": null,
      "outputs": []
    },
    {
      "cell_type": "code",
      "source": [
        "neural_network.fit(mnist_attributes_train, mnist_labels_train, epochs=50)"
      ],
      "metadata": {
        "id": "kwo2vZtuc40b"
      },
      "execution_count": null,
      "outputs": []
    }
  ]
}