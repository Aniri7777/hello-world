{
  "nbformat": 4,
  "nbformat_minor": 0,
  "metadata": {
    "colab": {
      "provenance": [],
      "gpuType": "T4",
      "authorship_tag": "ABX9TyN2D/xsFg3ETt3OLf6/KoFf",
      "include_colab_link": true
    },
    "kernelspec": {
      "name": "python3",
      "display_name": "Python 3"
    },
    "language_info": {
      "name": "python"
    },
    "accelerator": "GPU"
  },
  "cells": [
    {
      "cell_type": "markdown",
      "metadata": {
        "id": "view-in-github",
        "colab_type": "text"
      },
      "source": [
        "<a href=\"https://colab.research.google.com/github/Aniri7777/hello-world/blob/main/thirth_january_deeplearning_beginning.ipynb\" target=\"_parent\"><img src=\"https://colab.research.google.com/assets/colab-badge.svg\" alt=\"Open In Colab\"/></a>"
      ]
    },
    {
      "cell_type": "code",
      "execution_count": 1,
      "metadata": {
        "colab": {
          "base_uri": "https://localhost:8080/"
        },
        "id": "MOwzx-cTZeA_",
        "outputId": "2c7143d4-c0a5-44af-8c7c-d4f4dd3bff7f"
      },
      "outputs": [
        {
          "output_type": "stream",
          "name": "stdout",
          "text": [
            "Fri Jan  3 13:42:17 2025       \n",
            "+---------------------------------------------------------------------------------------+\n",
            "| NVIDIA-SMI 535.104.05             Driver Version: 535.104.05   CUDA Version: 12.2     |\n",
            "|-----------------------------------------+----------------------+----------------------+\n",
            "| GPU  Name                 Persistence-M | Bus-Id        Disp.A | Volatile Uncorr. ECC |\n",
            "| Fan  Temp   Perf          Pwr:Usage/Cap |         Memory-Usage | GPU-Util  Compute M. |\n",
            "|                                         |                      |               MIG M. |\n",
            "|=========================================+======================+======================|\n",
            "|   0  Tesla T4                       Off | 00000000:00:04.0 Off |                    0 |\n",
            "| N/A   35C    P8               9W /  70W |      0MiB / 15360MiB |      0%      Default |\n",
            "|                                         |                      |                  N/A |\n",
            "+-----------------------------------------+----------------------+----------------------+\n",
            "                                                                                         \n",
            "+---------------------------------------------------------------------------------------+\n",
            "| Processes:                                                                            |\n",
            "|  GPU   GI   CI        PID   Type   Process name                            GPU Memory |\n",
            "|        ID   ID                                                             Usage      |\n",
            "|=======================================================================================|\n",
            "|  No running processes found                                                           |\n",
            "+---------------------------------------------------------------------------------------+\n"
          ]
        }
      ],
      "source": [
        "!nvidia-smi"
      ]
    },
    {
      "cell_type": "code",
      "source": [
        "import tensorflow as tf"
      ],
      "metadata": {
        "id": "Qy398ELqbkW4"
      },
      "execution_count": 2,
      "outputs": []
    },
    {
      "cell_type": "code",
      "source": [
        "tf.config.list_physical_devices()"
      ],
      "metadata": {
        "colab": {
          "base_uri": "https://localhost:8080/"
        },
        "id": "uhMpwSBqbyQg",
        "outputId": "4b2d4533-b9ab-487c-bcc9-3e18d5cfc65c"
      },
      "execution_count": 4,
      "outputs": [
        {
          "output_type": "execute_result",
          "data": {
            "text/plain": [
              "[PhysicalDevice(name='/physical_device:CPU:0', device_type='CPU'),\n",
              " PhysicalDevice(name='/physical_device:GPU:0', device_type='GPU')]"
            ]
          },
          "metadata": {},
          "execution_count": 4
        }
      ]
    },
    {
      "cell_type": "code",
      "source": [
        "gpu = tf.config.list_physical_devices(\"GPU\")[0]"
      ],
      "metadata": {
        "id": "Pb0woOlKcek8"
      },
      "execution_count": 5,
      "outputs": []
    },
    {
      "cell_type": "code",
      "source": [
        "tf.config.experimental.set_memory_growth(gpu, True)"
      ],
      "metadata": {
        "id": "65qDh3lcb6qR"
      },
      "execution_count": 6,
      "outputs": []
    },
    {
      "cell_type": "code",
      "source": [
        "a = tf.constant(15)\n",
        "b = tf.constant(38)"
      ],
      "metadata": {
        "id": "SjR0XOX6c-Pp"
      },
      "execution_count": 11,
      "outputs": []
    },
    {
      "cell_type": "code",
      "source": [
        "a, b"
      ],
      "metadata": {
        "colab": {
          "base_uri": "https://localhost:8080/"
        },
        "id": "6bj0q-nZfr_5",
        "outputId": "d49b0cb5-8c51-42a9-9d9a-bbcb3e70cf29"
      },
      "execution_count": 12,
      "outputs": [
        {
          "output_type": "execute_result",
          "data": {
            "text/plain": [
              "(<tf.Tensor: shape=(), dtype=int32, numpy=15>,\n",
              " <tf.Tensor: shape=(), dtype=int32, numpy=38>)"
            ]
          },
          "metadata": {},
          "execution_count": 12
        }
      ]
    },
    {
      "cell_type": "code",
      "source": [
        "type(a)"
      ],
      "metadata": {
        "colab": {
          "base_uri": "https://localhost:8080/"
        },
        "id": "iLfbbkWOfuHH",
        "outputId": "cb2e0ead-2003-4e14-bd5c-7c291e6f5deb"
      },
      "execution_count": 13,
      "outputs": [
        {
          "output_type": "execute_result",
          "data": {
            "text/plain": [
              "tensorflow.python.framework.ops.EagerTensor"
            ]
          },
          "metadata": {},
          "execution_count": 13
        }
      ]
    },
    {
      "cell_type": "code",
      "source": [
        "tf.multiply(2, a)"
      ],
      "metadata": {
        "colab": {
          "base_uri": "https://localhost:8080/"
        },
        "id": "ByQW_nkAgJaE",
        "outputId": "3eecdcea-2950-4216-8946-76004d9bec62"
      },
      "execution_count": 14,
      "outputs": [
        {
          "output_type": "execute_result",
          "data": {
            "text/plain": [
              "<tf.Tensor: shape=(), dtype=int32, numpy=30>"
            ]
          },
          "metadata": {},
          "execution_count": 14
        }
      ]
    },
    {
      "cell_type": "code",
      "source": [
        "tf.multiply(3, b)"
      ],
      "metadata": {
        "colab": {
          "base_uri": "https://localhost:8080/"
        },
        "id": "Mw_mtsKGggCz",
        "outputId": "7385b77e-271b-4bc2-be5b-e11f5d2c13fc"
      },
      "execution_count": 15,
      "outputs": [
        {
          "output_type": "execute_result",
          "data": {
            "text/plain": [
              "<tf.Tensor: shape=(), dtype=int32, numpy=114>"
            ]
          },
          "metadata": {},
          "execution_count": 15
        }
      ]
    },
    {
      "cell_type": "code",
      "source": [
        "tf.add(tf.multiply(2, a), tf.multiply(3, b)) #събиране - add"
      ],
      "metadata": {
        "colab": {
          "base_uri": "https://localhost:8080/"
        },
        "id": "QnOYzu9lgrzf",
        "outputId": "51b762c3-39c7-445d-a3ef-bf08ddac84ac"
      },
      "execution_count": 17,
      "outputs": [
        {
          "output_type": "execute_result",
          "data": {
            "text/plain": [
              "<tf.Tensor: shape=(), dtype=int32, numpy=144>"
            ]
          },
          "metadata": {},
          "execution_count": 17
        }
      ]
    },
    {
      "cell_type": "code",
      "source": [
        "tf.pow(tf.add(tf.multiply(2, a), tf.multiply(3, b)), 2) # повдигане на някаква степен - pow(..., 2)"
      ],
      "metadata": {
        "colab": {
          "base_uri": "https://localhost:8080/"
        },
        "id": "lP62igbjg_UM",
        "outputId": "66f54cd9-e232-4cc4-9771-ee2b21ab5e95"
      },
      "execution_count": 18,
      "outputs": [
        {
          "output_type": "execute_result",
          "data": {
            "text/plain": [
              "<tf.Tensor: shape=(), dtype=int32, numpy=20736>"
            ]
          },
          "metadata": {},
          "execution_count": 18
        }
      ]
    },
    {
      "cell_type": "code",
      "source": [
        "2 * a"
      ],
      "metadata": {
        "colab": {
          "base_uri": "https://localhost:8080/"
        },
        "id": "4snSYcnuhqd-",
        "outputId": "cbf93641-ca07-4eb9-b085-a5d8727c9f49"
      },
      "execution_count": 19,
      "outputs": [
        {
          "output_type": "execute_result",
          "data": {
            "text/plain": [
              "<tf.Tensor: shape=(), dtype=int32, numpy=30>"
            ]
          },
          "metadata": {},
          "execution_count": 19
        }
      ]
    },
    {
      "cell_type": "code",
      "source": [
        "a = tf.constant([2, 15, 21, -244, 0, 4])\n",
        "b = tf.constant([3, 2, 20, 200, 18, 15])"
      ],
      "metadata": {
        "id": "-XTG1HKriA7p"
      },
      "execution_count": 21,
      "outputs": []
    },
    {
      "cell_type": "code",
      "source": [
        "tf.pow(tf.add(tf.multiply(2, a), tf.multiply(3, b)), 2)"
      ],
      "metadata": {
        "colab": {
          "base_uri": "https://localhost:8080/"
        },
        "id": "G9BU18crimgm",
        "outputId": "0121d077-3d92-4c7e-efe2-5c37a6ba0763"
      },
      "execution_count": 22,
      "outputs": [
        {
          "output_type": "execute_result",
          "data": {
            "text/plain": [
              "<tf.Tensor: shape=(6,), dtype=int32, numpy=array([  169,  1296, 10404, 12544,  2916,  2809], dtype=int32)>"
            ]
          },
          "metadata": {},
          "execution_count": 22
        }
      ]
    },
    {
      "cell_type": "code",
      "source": [
        "2 * a"
      ],
      "metadata": {
        "colab": {
          "base_uri": "https://localhost:8080/"
        },
        "id": "bnaObSkhi5uQ",
        "outputId": "0139cd12-3b5a-4e8a-b6ef-2cce4aa2f986"
      },
      "execution_count": 23,
      "outputs": [
        {
          "output_type": "execute_result",
          "data": {
            "text/plain": [
              "<tf.Tensor: shape=(6,), dtype=int32, numpy=array([   4,   30,   42, -488,    0,    8], dtype=int32)>"
            ]
          },
          "metadata": {},
          "execution_count": 23
        }
      ]
    },
    {
      "cell_type": "code",
      "source": [
        "(2 * a + 3 * b) ** 2 # Това също работи и пак връща тензор и умножение на тензор с цисло"
      ],
      "metadata": {
        "colab": {
          "base_uri": "https://localhost:8080/"
        },
        "id": "jmHGEOgEjBB9",
        "outputId": "b17d0daa-41b9-4cf9-8bd3-2b13ec33bf6d"
      },
      "execution_count": 24,
      "outputs": [
        {
          "output_type": "execute_result",
          "data": {
            "text/plain": [
              "<tf.Tensor: shape=(6,), dtype=int32, numpy=array([  169,  1296, 10404, 12544,  2916,  2809], dtype=int32)>"
            ]
          },
          "metadata": {},
          "execution_count": 24
        }
      ]
    },
    {
      "cell_type": "code",
      "source": [
        "tf.random.uniform((5, 8), 0, 20) # произволна тензорна матрица 5 на 8, със цисла от 0 до 20"
      ],
      "metadata": {
        "colab": {
          "base_uri": "https://localhost:8080/"
        },
        "id": "tn_dEsD2jRCc",
        "outputId": "e96599b3-bd23-401d-ae35-8ebb093f48e0"
      },
      "execution_count": 26,
      "outputs": [
        {
          "output_type": "execute_result",
          "data": {
            "text/plain": [
              "<tf.Tensor: shape=(5, 8), dtype=float32, numpy=\n",
              "array([[ 6.287515  , 13.584061  ,  4.7946167 , 10.722168  , 18.01674   ,\n",
              "         6.220665  , 14.505124  , 13.552856  ],\n",
              "       [14.450173  ,  5.460553  ,  7.9930615 , 13.285742  , 13.820581  ,\n",
              "         3.3458018 , 15.692175  ,  8.480862  ],\n",
              "       [12.4250145 , 17.24063   ,  8.541999  ,  7.113731  , 17.259373  ,\n",
              "         5.099895  ,  9.741201  , 11.577789  ],\n",
              "       [14.86043   ,  0.29265404, 18.333412  ,  7.2117686 , 19.979427  ,\n",
              "        10.216408  ,  3.1893063 ,  6.8996644 ],\n",
              "       [ 8.078656  , 19.766161  ,  8.541288  ,  2.4767327 , 14.07753   ,\n",
              "        11.207802  ,  9.391497  , 10.158324  ]], dtype=float32)>"
            ]
          },
          "metadata": {},
          "execution_count": 26
        }
      ]
    },
    {
      "cell_type": "code",
      "source": [
        "a = tf.random.uniform((5, 8), 0, 20)\n",
        "b = tf.random.uniform((5, 8), 0, 20)"
      ],
      "metadata": {
        "id": "kmqitbIXmDAF"
      },
      "execution_count": 27,
      "outputs": []
    },
    {
      "cell_type": "code",
      "source": [
        "a, b"
      ],
      "metadata": {
        "colab": {
          "base_uri": "https://localhost:8080/"
        },
        "id": "9ayk4Gp5mk6Z",
        "outputId": "15950726-89a4-4e38-bd39-36acfa48522e"
      },
      "execution_count": 28,
      "outputs": [
        {
          "output_type": "execute_result",
          "data": {
            "text/plain": [
              "(<tf.Tensor: shape=(5, 8), dtype=float32, numpy=\n",
              " array([[ 2.732489 ,  8.921609 , 12.669206 ,  3.030429 ,  3.806553 ,\n",
              "         16.206045 ,  5.0822377,  3.8849592],\n",
              "        [18.57219  , 16.59751  , 12.957835 ,  6.1284995,  9.671604 ,\n",
              "         12.121813 ,  7.492919 ,  4.949186 ],\n",
              "        [15.899835 , 11.584694 ,  4.480717 ,  2.3605418,  8.501306 ,\n",
              "          8.190522 ,  3.3623004, 10.925095 ],\n",
              "        [13.391705 ,  1.2444997, 19.154743 , 12.7627735,  5.8457303,\n",
              "         11.561298 , 12.96755  , 10.762817 ],\n",
              "        [12.606192 , 13.824081 ,  7.48523  ,  4.7919965, 15.955443 ,\n",
              "         15.369862 ,  5.4174924,  4.517951 ]], dtype=float32)>,\n",
              " <tf.Tensor: shape=(5, 8), dtype=float32, numpy=\n",
              " array([[ 2.0364022 , 19.778002  , 19.868013  ,  7.188916  ,  9.114165  ,\n",
              "         18.799824  , 17.323503  , 18.49033   ],\n",
              "        [17.396183  , 17.455729  ,  8.065508  ,  7.970698  , 15.7501335 ,\n",
              "          1.0967469 , 17.655167  ,  6.906445  ],\n",
              "        [ 0.05129576,  1.8893647 ,  5.20854   , 16.428692  , 15.058939  ,\n",
              "          3.2575345 , 15.236478  , 18.40004   ],\n",
              "        [16.58928   ,  9.967482  , 17.300062  ,  9.5255375 , 10.078766  ,\n",
              "          9.697855  ,  6.0022593 ,  9.35383   ],\n",
              "        [12.813902  ,  6.1413503 , 10.221539  ,  7.6407027 , 18.864597  ,\n",
              "          1.2911534 , 17.166294  , 11.515932  ]], dtype=float32)>)"
            ]
          },
          "metadata": {},
          "execution_count": 28
        }
      ]
    },
    {
      "cell_type": "code",
      "source": [
        "(2 * a + 3 * b) ** 2"
      ],
      "metadata": {
        "colab": {
          "base_uri": "https://localhost:8080/"
        },
        "id": "oBe7-RJqmokS",
        "outputId": "7912bfc6-4a7f-4308-be17-447a25da9a68"
      },
      "execution_count": 29,
      "outputs": [
        {
          "output_type": "execute_result",
          "data": {
            "text/plain": [
              "<tf.Tensor: shape=(5, 8), dtype=float32, numpy=\n",
              "array([[ 133.96175, 5956.3237 , 7215.22   ,  763.28467, 1221.894  ,\n",
              "        7887.4937 , 3860.7566 , 3999.412  ],\n",
              "       [7980.3726 , 7320.892  , 2511.232  , 1308.2034 , 4434.7095 ,\n",
              "         758.11383, 4617.385  ,  937.4439 ],\n",
              "       [1021.0297 ,  831.6004 ,  604.52325, 2916.7734 , 3866.2812 ,\n",
              "         684.0133 , 2749.3281 , 5936.75   ],\n",
              "       [5860.0933 , 1049.2057 , 8137.7847 , 2927.0435 , 1757.9368 ,\n",
              "        2726.5278 , 1930.8888 , 2458.883  ],\n",
              "       [4051.8428 , 2122.6487 , 2082.56   , 1056.6465 , 7833.0776 ,\n",
              "        1198.0724 , 3885.5107 , 1899.5391 ]], dtype=float32)>"
            ]
          },
          "metadata": {},
          "execution_count": 29
        }
      ]
    },
    {
      "cell_type": "code",
      "source": [
        "# Гарантираме си, че функцията ще създаде граф или тензор:\n",
        "@tf.function\n",
        "def compute(a, b):\n",
        "  return (2 * a + 3 * b) ** 2"
      ],
      "metadata": {
        "id": "AzsoXxEomv_8"
      },
      "execution_count": 32,
      "outputs": []
    },
    {
      "cell_type": "code",
      "source": [
        "compute(2, 3)"
      ],
      "metadata": {
        "colab": {
          "base_uri": "https://localhost:8080/"
        },
        "id": "8XArIx7vnX2B",
        "outputId": "1dcbf580-c477-45e0-be68-a54927930920"
      },
      "execution_count": 33,
      "outputs": [
        {
          "output_type": "execute_result",
          "data": {
            "text/plain": [
              "<tf.Tensor: shape=(), dtype=int32, numpy=169>"
            ]
          },
          "metadata": {},
          "execution_count": 33
        }
      ]
    },
    {
      "cell_type": "code",
      "source": [
        "compute(tf.constant([2]), tf.constant([3]))"
      ],
      "metadata": {
        "colab": {
          "base_uri": "https://localhost:8080/"
        },
        "id": "bt1-zk1DncF3",
        "outputId": "0eb35408-8afd-486a-8f7a-0cc98f2ae621"
      },
      "execution_count": 34,
      "outputs": [
        {
          "output_type": "execute_result",
          "data": {
            "text/plain": [
              "<tf.Tensor: shape=(1,), dtype=int32, numpy=array([169], dtype=int32)>"
            ]
          },
          "metadata": {},
          "execution_count": 34
        }
      ]
    },
    {
      "cell_type": "code",
      "source": [
        "compute(tf.constant([2]), tf.constant([3])).numpy()"
      ],
      "metadata": {
        "colab": {
          "base_uri": "https://localhost:8080/"
        },
        "id": "iYDUTPLToaCX",
        "outputId": "27a71ab5-2693-4016-b6b2-fe655b560865"
      },
      "execution_count": 35,
      "outputs": [
        {
          "output_type": "execute_result",
          "data": {
            "text/plain": [
              "array([169], dtype=int32)"
            ]
          },
          "metadata": {},
          "execution_count": 35
        }
      ]
    },
    {
      "cell_type": "code",
      "source": [
        "compute(a, b) / 100000"
      ],
      "metadata": {
        "colab": {
          "base_uri": "https://localhost:8080/"
        },
        "id": "oSApVAP-oxbS",
        "outputId": "550caded-73de-4915-965a-5776ce09a5fd"
      },
      "execution_count": 36,
      "outputs": [
        {
          "output_type": "execute_result",
          "data": {
            "text/plain": [
              "<tf.Tensor: shape=(5, 8), dtype=float32, numpy=\n",
              "array([[0.00133962, 0.05956324, 0.0721522 , 0.00763285, 0.01221894,\n",
              "        0.07887494, 0.03860757, 0.03999412],\n",
              "       [0.07980373, 0.07320891, 0.02511232, 0.01308203, 0.0443471 ,\n",
              "        0.00758114, 0.04617385, 0.00937444],\n",
              "       [0.0102103 , 0.008316  , 0.00604523, 0.02916773, 0.03866281,\n",
              "        0.00684013, 0.02749328, 0.0593675 ],\n",
              "       [0.05860093, 0.01049206, 0.08137785, 0.02927043, 0.01757937,\n",
              "        0.02726528, 0.01930889, 0.02458883],\n",
              "       [0.04051843, 0.02122649, 0.0208256 , 0.01056646, 0.07833078,\n",
              "        0.01198072, 0.03885511, 0.01899539]], dtype=float32)>"
            ]
          },
          "metadata": {},
          "execution_count": 36
        }
      ]
    },
    {
      "cell_type": "code",
      "source": [],
      "metadata": {
        "id": "3CX2FgMOpijP"
      },
      "execution_count": null,
      "outputs": []
    }
  ]
}